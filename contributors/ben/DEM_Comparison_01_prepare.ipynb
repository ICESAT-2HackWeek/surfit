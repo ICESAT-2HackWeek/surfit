{
 "cells": [
  {
   "cell_type": "code",
   "execution_count": 1,
   "id": "9273b43c-683e-4c3e-984f-4330b3d498d7",
   "metadata": {
    "tags": []
   },
   "outputs": [
    {
     "name": "stderr",
     "output_type": "stream",
     "text": [
      "/tmp/ipykernel_2530/289912754.py:9: UserWarning: Shapely 2.0 is installed, but because PyGEOS is also installed, GeoPandas will still use PyGEOS by default for now. To force to use and test Shapely 2.0, you have to set the environment variable USE_PYGEOS=0. You can do this before starting the Python process, or in your code before importing geopandas:\n",
      "\n",
      "import os\n",
      "os.environ['USE_PYGEOS'] = '0'\n",
      "import geopandas\n",
      "\n",
      "In a future release, GeoPandas will switch to using Shapely by default. If you are using PyGEOS directly (calling PyGEOS functions on geometries from GeoPandas), this will then stop working and you are encouraged to migrate from PyGEOS to Shapely 2.0 (https://shapely.readthedocs.io/en/latest/migration_pygeos.html).\n",
      "  import geopandas as gpd\n"
     ]
    }
   ],
   "source": [
    "import os\n",
    "import numpy as np\n",
    "import sys\n",
    "import logging\n",
    "import concurrent.futures\n",
    "import time\n",
    "from datetime import datetime\n",
    "import pandas as pd\n",
    "import geopandas as gpd\n",
    "import matplotlib.pyplot as plt\n",
    "from pyproj import Transformer, CRS\n",
    "from shapely.geometry import Polygon, Point\n",
    "from sliderule import sliderule, icesat2, earthdata, h5, ipysliderule, io\n",
    "import warnings\n",
    "from IPython import display\n",
    "import json\n",
    "\n",
    "warnings.filterwarnings('ignore')"
   ]
  },
  {
   "cell_type": "code",
   "execution_count": 2,
   "id": "9cf91c54-39d5-4a2c-9b2c-2b17d2f83faf",
   "metadata": {
    "tags": []
   },
   "outputs": [],
   "source": [
    "####################### SET PARAMETERS #################"
   ]
  },
  {
   "cell_type": "code",
   "execution_count": 158,
   "id": "9495063a-9534-4477-a272-68810c0366b8",
   "metadata": {
    "tags": []
   },
   "outputs": [],
   "source": [
    "\n",
    "# Select predetermined track\n",
    "# site = \"utqiagvik\"\n",
    "site = \"blackrock\"\n",
    "\n",
    "#input options\n",
    "# \"len\": recommended 20.0\n",
    "segLength = 20.0\n",
    "# \"res\":  recommended 10.0\n",
    "res = 10.0\n",
    "\n",
    "# zonal status radius\n",
    "zonal_radius = 10.0\n",
    "\n",
    "#output options\n",
    "# Save flag (0: dont save\n",
    "sFlag = 0\n",
    "\n",
    "along_track_spread = 5.0\n",
    "\n",
    "photon_count = 5\n",
    "\n",
    "confidence = -2\n",
    "\n",
    "maxi = 2\n",
    "\n",
    "# DEM\n",
    "dem_to_sample = \"usgs3dep-1meter-dem\" # arcticdem-mosaic or usgs3dep-1meter-dem\n",
    "\n",
    "\n",
    "# path = f\"~/surfit/data/\"\n",
    "path = os.getcwd()\n",
    "filename = f\"{path}/{site}_ATL06_segLen{int(segLength)}m_stepDist{int(res)}m_sampled_{dem_to_sample}_at_{int(zonal_radius)}m.csv\""
   ]
  },
  {
   "cell_type": "code",
   "execution_count": 159,
   "id": "e6a141a5-80f8-49c6-aed8-5745767329db",
   "metadata": {
    "tags": []
   },
   "outputs": [
    {
     "data": {
      "text/plain": [
       "'/home/jovyan/surfit/contributors/ben/blackrock_ATL06_segLen20m_stepDist10m_sampled_usgs3dep-1meter-dem_at_10m.csv'"
      ]
     },
     "execution_count": 159,
     "metadata": {},
     "output_type": "execute_result"
    }
   ],
   "source": [
    "filename"
   ]
  },
  {
   "cell_type": "code",
   "execution_count": 160,
   "id": "86e4b04a-a247-402b-82df-099f264e7a8a",
   "metadata": {
    "tags": []
   },
   "outputs": [],
   "source": [
    "########################### BEGIN "
   ]
  },
  {
   "cell_type": "code",
   "execution_count": 161,
   "id": "0d9f29b0-7298-45d9-a1f0-a13a95e36cdb",
   "metadata": {
    "tags": []
   },
   "outputs": [],
   "source": [
    "# Configure ICESat-2 API\n",
    "icesat2.init(\"slideruleearth.io\", verbose=False)"
   ]
  },
  {
   "cell_type": "code",
   "execution_count": 162,
   "id": "05e31dda-5aef-45cc-af51-d6c4169ab2c9",
   "metadata": {
    "tags": []
   },
   "outputs": [],
   "source": [
    "'''\n",
    "File Naming Conventions\n",
    "ATL[xx]_[yyyymmdd][hhmmss]_[tttt][cc][nn]_[vvv]_[rr].h5\n",
    "xx : ATLAS product number\n",
    "yyyymmdd : year, month and day of data acquisition\n",
    "hhmmss : start time, hour, minute, and second of data acquisition\n",
    "tttt : Reference Ground Track (RGT, ranges from 1–1387)\n",
    "cc : Orbital Cycle (91-day period)\n",
    "nn : Granule number (ranges from 1–14)\n",
    "vvv : data version number\n",
    "rr : data release number\n",
    "'''\n",
    "\n",
    "# Import granule id, \n",
    "def unpackGranuleID(gid):\n",
    "    global shortName, dat, tim, rgt, cycle, granuleNumber, version, release\n",
    "    gid = gid.split('_')\n",
    "    shortName = f'{gid[0]}'\n",
    "    dat = f'{gid[1][0:4]}-{gid[1][4:6]}-{gid[1][6:8]}'\n",
    "    tim = f'{gid[1][8:10]}:{gid[1][10:12]}:{gid[1][12:14]}'\n",
    "    rgt = int(f'{gid[2][0:4]}')\n",
    "    cycle = int(f'{gid[2][4:6]}')\n",
    "    granuleNumber = f'{gid[2][6:8]}'\n",
    "    version = f'{gid[3]}'\n",
    "    release = f'{gid[4][0:2]}'\n",
    "    \n",
    "# gt dictionary\n",
    "gtDict = {\"gt1l\": 10, \"gt1r\": 20, \"gt2l\": 30, \"gt2r\": 40, \"gt3l\": 50, \"gt3r\": 60}\n"
   ]
  },
  {
   "cell_type": "code",
   "execution_count": 163,
   "id": "45c0ac87-4484-4ee0-b790-f3798d669151",
   "metadata": {
    "tags": []
   },
   "outputs": [],
   "source": [
    "# Load JSON data from a file into a Python dictionary\n",
    "with open('/home/jovyan/surfit/data/icesat2_tracks.json') as json_file:\n",
    "    data_dict = json.load(json_file)"
   ]
  },
  {
   "cell_type": "code",
   "execution_count": 164,
   "id": "8ad95e4c-ad07-44ce-9084-7738abd769e2",
   "metadata": {
    "tags": []
   },
   "outputs": [],
   "source": [
    "#Unpack site metadata\n",
    "pregion = f\"/home/jovyan/surfit/data/bbox_{site}.geojson\" \n",
    "region = sliderule.toregion(pregion)[\"poly\"]\n",
    "gid = data_dict[site][\"granule_id\"]\n",
    "beam = data_dict[site][\"beam\"]\n",
    "unpackGranuleID(gid)"
   ]
  },
  {
   "cell_type": "code",
   "execution_count": 165,
   "id": "4472ced1-3b1d-44db-b08e-1ea336015d22",
   "metadata": {
    "tags": []
   },
   "outputs": [],
   "source": [
    "########################### Check 3DEP availability before going on"
   ]
  },
  {
   "cell_type": "code",
   "execution_count": 166,
   "id": "8be23f8b-f193-4d6f-9093-b2acc1af8596",
   "metadata": {
    "tags": []
   },
   "outputs": [],
   "source": [
    "geojson_dem_area = earthdata.tnm(short_name=\"Digital Elevation Model (DEM) 1 meter\", polygon=region)"
   ]
  },
  {
   "cell_type": "code",
   "execution_count": 167,
   "id": "8d7c46c0-e654-4d58-aeea-d0ae965c77b2",
   "metadata": {
    "tags": []
   },
   "outputs": [
    {
     "data": {
      "text/plain": [
       "<AxesSubplot: >"
      ]
     },
     "execution_count": 167,
     "metadata": {},
     "output_type": "execute_result"
    },
    {
     "data": {
      "image/png": "[encoded data removed]",
      "text/plain": [
       "<Figure size 640x480 with 1 Axes>"
      ]
     },
     "metadata": {},
     "output_type": "display_data"
    }
   ],
   "source": [
    "tnm_gdf = gpd.read_file(geojson_dem_area)\n",
    "tnm_gdf.plot(alpha=0.5)"
   ]
  },
  {
   "cell_type": "code",
   "execution_count": 168,
   "id": "b97bf4a0-6a9d-4ac4-9f15-9685acd74649",
   "metadata": {
    "tags": []
   },
   "outputs": [],
   "source": [
    "# Build ATL06 Request\n",
    "parms = {\n",
    "    \"poly\": region,\n",
    "    \"cnf\": confidence,\n",
    "    \"ats\": along_track_spread,\n",
    "    \"cnt\": photon_count,\n",
    "    \"len\": segLength,\n",
    "    \"res\": res,\n",
    "    \"cycle\": cycle,\n",
    "    \"maxi\": maxi,\n",
    "    \n",
    "    # get zonal stats of dem\n",
    "    \"samples\" : {\n",
    "            \"dem_stats\": {\"asset\": dem_to_sample, \n",
    "                          \"radius\": zonal_radius, \n",
    "                          \"zonal_stats\": True, \n",
    "                          \"catalog\": geojson_dem_area }\n",
    "        }\n",
    "}"
   ]
  },
  {
   "cell_type": "code",
   "execution_count": 169,
   "id": "3fb02b7e-2865-4f28-8d90-0cdc449f0323",
   "metadata": {
    "tags": []
   },
   "outputs": [
    {
     "name": "stdout",
     "output_type": "stream",
     "text": [
      "Reference Ground Tracks: [204]\n",
      "Cycles: [8]\n",
      "Received 2638 elevations\n"
     ]
    }
   ],
   "source": [
    "# Latch Start Time\n",
    "#perf_start = time.perf_counter()\n",
    "\n",
    "# Request ATL06 Data\n",
    "atl06_sr = icesat2.atl06p(parms, \"nsidc-s3\")\n",
    "ss_atl06_sr = atl06_sr[(atl06_sr.rgt == rgt)*atl06_sr.loc[:, 'gt']==gtDict[beam]]\n",
    "\n",
    "\n",
    "# Latch Stop Time\n",
    "#perf_stop = time.perf_counter()\n",
    "\n",
    "# Display Statistics\n",
    "#perf_duration = perf_stop - perf_start\n",
    "#print(\"Completed in {:.3f} seconds of wall-clock time\".format(perf_duration))\n",
    "print(\"Reference Ground Tracks: {}\".format(ss_atl06_sr[\"rgt\"].unique()))\n",
    "print(\"Cycles: {}\".format(ss_atl06_sr[\"cycle\"].unique()))\n",
    "print(\"Received {} elevations\".format(ss_atl06_sr.shape[0]))"
   ]
  },
  {
   "cell_type": "code",
   "execution_count": 170,
   "id": "a1f096e7-f25c-4c34-8c49-875547c8aeaf",
   "metadata": {
    "tags": []
   },
   "outputs": [
    {
     "data": {
      "text/html": [
       "<div>\n",
       "<style scoped>\n",
       "    .dataframe tbody tr th:only-of-type {\n",
       "        vertical-align: middle;\n",
       "    }\n",
       "\n",
       "    .dataframe tbody tr th {\n",
       "        vertical-align: top;\n",
       "    }\n",
       "\n",
       "    .dataframe thead th {\n",
       "        text-align: right;\n",
       "    }\n",
       "</style>\n",
       "<table border=\"1\" class=\"dataframe\">\n",
       "  <thead>\n",
       "    <tr style=\"text-align: right;\">\n",
       "      <th></th>\n",
       "      <th>segment_id</th>\n",
       "      <th>h_mean</th>\n",
       "      <th>rgt</th>\n",
       "      <th>rms_misfit</th>\n",
       "      <th>pflags</th>\n",
       "      <th>distance</th>\n",
       "      <th>dh_fit_dy</th>\n",
       "      <th>h_sigma</th>\n",
       "      <th>dh_fit_dx</th>\n",
       "      <th>w_surface_window_final</th>\n",
       "      <th>...</th>\n",
       "      <th>dem_stats.file_id</th>\n",
       "      <th>dem_stats.time</th>\n",
       "      <th>dem_stats.count</th>\n",
       "      <th>dem_stats.stdev</th>\n",
       "      <th>dem_stats.min</th>\n",
       "      <th>dem_stats.median</th>\n",
       "      <th>dem_stats.mean</th>\n",
       "      <th>dem_stats.flags</th>\n",
       "      <th>dem_stats.mad</th>\n",
       "      <th>dem_stats.max</th>\n",
       "    </tr>\n",
       "    <tr>\n",
       "      <th>time</th>\n",
       "      <th></th>\n",
       "      <th></th>\n",
       "      <th></th>\n",
       "      <th></th>\n",
       "      <th></th>\n",
       "      <th></th>\n",
       "      <th></th>\n",
       "      <th></th>\n",
       "      <th></th>\n",
       "      <th></th>\n",
       "      <th></th>\n",
       "      <th></th>\n",
       "      <th></th>\n",
       "      <th></th>\n",
       "      <th></th>\n",
       "      <th></th>\n",
       "      <th></th>\n",
       "      <th></th>\n",
       "      <th></th>\n",
       "      <th></th>\n",
       "      <th></th>\n",
       "    </tr>\n",
       "  </thead>\n",
       "  <tbody>\n",
       "    <tr>\n",
       "      <th>2020-07-08 17:09:55.677756928</th>\n",
       "      <td>225376</td>\n",
       "      <td>1403.503057</td>\n",
       "      <td>204</td>\n",
       "      <td>4.574568</td>\n",
       "      <td>4</td>\n",
       "      <td>4.519819e+06</td>\n",
       "      <td>0.0</td>\n",
       "      <td>0.448157</td>\n",
       "      <td>-0.212558</td>\n",
       "      <td>26.554810</td>\n",
       "      <td>...</td>\n",
       "      <td>[4294967296]</td>\n",
       "      <td>[1362467060.0]</td>\n",
       "      <td>[317]</td>\n",
       "      <td>[0.5898674427617167]</td>\n",
       "      <td>[1402.2035286115504]</td>\n",
       "      <td>[1403.6866829084254]</td>\n",
       "      <td>[1403.6171509652888]</td>\n",
       "      <td>[0]</td>\n",
       "      <td>[0.4914804666698051]</td>\n",
       "      <td>[1404.5874397443629]</td>\n",
       "    </tr>\n",
       "    <tr>\n",
       "      <th>2020-07-08 17:09:55.679171584</th>\n",
       "      <td>225377</td>\n",
       "      <td>1403.012792</td>\n",
       "      <td>204</td>\n",
       "      <td>2.880401</td>\n",
       "      <td>4</td>\n",
       "      <td>4.519829e+06</td>\n",
       "      <td>0.0</td>\n",
       "      <td>0.272432</td>\n",
       "      <td>0.002049</td>\n",
       "      <td>22.500000</td>\n",
       "      <td>...</td>\n",
       "      <td>[4294967296]</td>\n",
       "      <td>[1362467060.0]</td>\n",
       "      <td>[317]</td>\n",
       "      <td>[0.7484584408979038]</td>\n",
       "      <td>[1401.997786743998]</td>\n",
       "      <td>[1403.3226158455604]</td>\n",
       "      <td>[1403.3118971479234]</td>\n",
       "      <td>[0]</td>\n",
       "      <td>[0.6315871904940773]</td>\n",
       "      <td>[1405.1243736580604]</td>\n",
       "    </tr>\n",
       "    <tr>\n",
       "      <th>2020-07-08 17:09:55.680586240</th>\n",
       "      <td>225377</td>\n",
       "      <td>1403.759662</td>\n",
       "      <td>204</td>\n",
       "      <td>1.154212</td>\n",
       "      <td>4</td>\n",
       "      <td>4.519839e+06</td>\n",
       "      <td>0.0</td>\n",
       "      <td>0.112108</td>\n",
       "      <td>0.188104</td>\n",
       "      <td>9.835056</td>\n",
       "      <td>...</td>\n",
       "      <td>[4294967296]</td>\n",
       "      <td>[1362467060.0]</td>\n",
       "      <td>[317]</td>\n",
       "      <td>[1.022060189562878]</td>\n",
       "      <td>[1402.1238320221205]</td>\n",
       "      <td>[1404.874442373683]</td>\n",
       "      <td>[1404.7229685190714]</td>\n",
       "      <td>[0]</td>\n",
       "      <td>[0.840128645920726]</td>\n",
       "      <td>[1406.4299843658705]</td>\n",
       "    </tr>\n",
       "    <tr>\n",
       "      <th>2020-07-08 17:09:55.682009344</th>\n",
       "      <td>225378</td>\n",
       "      <td>1404.545806</td>\n",
       "      <td>204</td>\n",
       "      <td>3.046843</td>\n",
       "      <td>4</td>\n",
       "      <td>4.519849e+06</td>\n",
       "      <td>0.0</td>\n",
       "      <td>0.348481</td>\n",
       "      <td>0.296321</td>\n",
       "      <td>17.538962</td>\n",
       "      <td>...</td>\n",
       "      <td>[4294967296]</td>\n",
       "      <td>[1362467060.0]</td>\n",
       "      <td>[317]</td>\n",
       "      <td>[0.5995062252448775]</td>\n",
       "      <td>[1404.4564200732732]</td>\n",
       "      <td>[1406.1732169482732]</td>\n",
       "      <td>[1406.0916762900108]</td>\n",
       "      <td>[0]</td>\n",
       "      <td>[0.4908002310102023]</td>\n",
       "      <td>[1407.0916739795232]</td>\n",
       "    </tr>\n",
       "    <tr>\n",
       "      <th>2020-07-08 17:09:55.683426560</th>\n",
       "      <td>225378</td>\n",
       "      <td>1406.234265</td>\n",
       "      <td>204</td>\n",
       "      <td>5.271284</td>\n",
       "      <td>4</td>\n",
       "      <td>4.519859e+06</td>\n",
       "      <td>0.0</td>\n",
       "      <td>0.537546</td>\n",
       "      <td>0.214668</td>\n",
       "      <td>32.217031</td>\n",
       "      <td>...</td>\n",
       "      <td>[4294967296]</td>\n",
       "      <td>[1362467060.0]</td>\n",
       "      <td>[317]</td>\n",
       "      <td>[0.4291748835686584]</td>\n",
       "      <td>[1405.6587593667468]</td>\n",
       "      <td>[1406.8826363198718]</td>\n",
       "      <td>[1406.8320737952176]</td>\n",
       "      <td>[0]</td>\n",
       "      <td>[0.34786141617167676]</td>\n",
       "      <td>[1407.7114937417468]</td>\n",
       "    </tr>\n",
       "  </tbody>\n",
       "</table>\n",
       "<p>5 rows × 26 columns</p>\n",
       "</div>"
      ],
      "text/plain": [
       "                               segment_id       h_mean  rgt  rms_misfit  \\\n",
       "time                                                                      \n",
       "2020-07-08 17:09:55.677756928      225376  1403.503057  204    4.574568   \n",
       "2020-07-08 17:09:55.679171584      225377  1403.012792  204    2.880401   \n",
       "2020-07-08 17:09:55.680586240      225377  1403.759662  204    1.154212   \n",
       "2020-07-08 17:09:55.682009344      225378  1404.545806  204    3.046843   \n",
       "2020-07-08 17:09:55.683426560      225378  1406.234265  204    5.271284   \n",
       "\n",
       "                               pflags      distance  dh_fit_dy   h_sigma  \\\n",
       "time                                                                       \n",
       "2020-07-08 17:09:55.677756928       4  4.519819e+06        0.0  0.448157   \n",
       "2020-07-08 17:09:55.679171584       4  4.519829e+06        0.0  0.272432   \n",
       "2020-07-08 17:09:55.680586240       4  4.519839e+06        0.0  0.112108   \n",
       "2020-07-08 17:09:55.682009344       4  4.519849e+06        0.0  0.348481   \n",
       "2020-07-08 17:09:55.683426560       4  4.519859e+06        0.0  0.537546   \n",
       "\n",
       "                               dh_fit_dx  w_surface_window_final  ...  \\\n",
       "time                                                              ...   \n",
       "2020-07-08 17:09:55.677756928  -0.212558               26.554810  ...   \n",
       "2020-07-08 17:09:55.679171584   0.002049               22.500000  ...   \n",
       "2020-07-08 17:09:55.680586240   0.188104                9.835056  ...   \n",
       "2020-07-08 17:09:55.682009344   0.296321               17.538962  ...   \n",
       "2020-07-08 17:09:55.683426560   0.214668               32.217031  ...   \n",
       "\n",
       "                               dem_stats.file_id  dem_stats.time  \\\n",
       "time                                                               \n",
       "2020-07-08 17:09:55.677756928       [4294967296]  [1362467060.0]   \n",
       "2020-07-08 17:09:55.679171584       [4294967296]  [1362467060.0]   \n",
       "2020-07-08 17:09:55.680586240       [4294967296]  [1362467060.0]   \n",
       "2020-07-08 17:09:55.682009344       [4294967296]  [1362467060.0]   \n",
       "2020-07-08 17:09:55.683426560       [4294967296]  [1362467060.0]   \n",
       "\n",
       "                               dem_stats.count       dem_stats.stdev  \\\n",
       "time                                                                   \n",
       "2020-07-08 17:09:55.677756928            [317]  [0.5898674427617167]   \n",
       "2020-07-08 17:09:55.679171584            [317]  [0.7484584408979038]   \n",
       "2020-07-08 17:09:55.680586240            [317]   [1.022060189562878]   \n",
       "2020-07-08 17:09:55.682009344            [317]  [0.5995062252448775]   \n",
       "2020-07-08 17:09:55.683426560            [317]  [0.4291748835686584]   \n",
       "\n",
       "                                      dem_stats.min      dem_stats.median  \\\n",
       "time                                                                        \n",
       "2020-07-08 17:09:55.677756928  [1402.2035286115504]  [1403.6866829084254]   \n",
       "2020-07-08 17:09:55.679171584   [1401.997786743998]  [1403.3226158455604]   \n",
       "2020-07-08 17:09:55.680586240  [1402.1238320221205]   [1404.874442373683]   \n",
       "2020-07-08 17:09:55.682009344  [1404.4564200732732]  [1406.1732169482732]   \n",
       "2020-07-08 17:09:55.683426560  [1405.6587593667468]  [1406.8826363198718]   \n",
       "\n",
       "                                     dem_stats.mean dem_stats.flags  \\\n",
       "time                                                                  \n",
       "2020-07-08 17:09:55.677756928  [1403.6171509652888]             [0]   \n",
       "2020-07-08 17:09:55.679171584  [1403.3118971479234]             [0]   \n",
       "2020-07-08 17:09:55.680586240  [1404.7229685190714]             [0]   \n",
       "2020-07-08 17:09:55.682009344  [1406.0916762900108]             [0]   \n",
       "2020-07-08 17:09:55.683426560  [1406.8320737952176]             [0]   \n",
       "\n",
       "                                       dem_stats.mad         dem_stats.max  \n",
       "time                                                                        \n",
       "2020-07-08 17:09:55.677756928   [0.4914804666698051]  [1404.5874397443629]  \n",
       "2020-07-08 17:09:55.679171584   [0.6315871904940773]  [1405.1243736580604]  \n",
       "2020-07-08 17:09:55.680586240    [0.840128645920726]  [1406.4299843658705]  \n",
       "2020-07-08 17:09:55.682009344   [0.4908002310102023]  [1407.0916739795232]  \n",
       "2020-07-08 17:09:55.683426560  [0.34786141617167676]  [1407.7114937417468]  \n",
       "\n",
       "[5 rows x 26 columns]"
      ]
     },
     "execution_count": 170,
     "metadata": {},
     "output_type": "execute_result"
    }
   ],
   "source": [
    "ss_atl06_sr.head()"
   ]
  },
  {
   "cell_type": "code",
   "execution_count": 171,
   "id": "806c5434-0b13-4acc-8643-14a43a5cab2a",
   "metadata": {
    "tags": []
   },
   "outputs": [
    {
     "data": {
      "text/plain": [
       "Index(['segment_id', 'h_mean', 'rgt', 'rms_misfit', 'pflags', 'distance',\n",
       "       'dh_fit_dy', 'h_sigma', 'dh_fit_dx', 'w_surface_window_final', 'spot',\n",
       "       'n_fit_photons', 'cycle', 'gt', 'geometry', 'dem_stats.value',\n",
       "       'dem_stats.file_id', 'dem_stats.time', 'dem_stats.count',\n",
       "       'dem_stats.stdev', 'dem_stats.min', 'dem_stats.median',\n",
       "       'dem_stats.mean', 'dem_stats.flags', 'dem_stats.mad', 'dem_stats.max'],\n",
       "      dtype='object')"
      ]
     },
     "execution_count": 171,
     "metadata": {},
     "output_type": "execute_result"
    }
   ],
   "source": [
    "ss_atl06_sr.keys()"
   ]
  },
  {
   "cell_type": "code",
   "execution_count": 172,
   "id": "62b8aea1-d4a6-4dfc-a1f1-a023ef7a24dc",
   "metadata": {
    "tags": []
   },
   "outputs": [
    {
     "data": {
      "text/plain": [
       "array([1404.0078499006129, 1402.2059166268104, 1404.983573233058, ...,\n",
       "       1185.1351436371103, 1186.4924713284242, 1186.1808542850515],\n",
       "      dtype=object)"
      ]
     },
     "execution_count": 172,
     "metadata": {},
     "output_type": "execute_result"
    }
   ],
   "source": [
    "dem_values = ss_atl06_sr[\"dem_stats.value\"].values\n",
    "\n",
    "for i in range(len(dem_values)):\n",
    "    if isinstance(dem_values[i], np.ndarray):\n",
    "        dem_values[i] = dem_values[i][0]\n",
    "        \n",
    "dem_values"
   ]
  },
  {
   "cell_type": "code",
   "execution_count": 173,
   "id": "473a614e-adb3-4348-ae0e-5bd3f05eb187",
   "metadata": {
    "tags": []
   },
   "outputs": [
    {
     "data": {
      "text/plain": [
       "Text(0, 0.5, 'Elevation (km)')"
      ]
     },
     "execution_count": 173,
     "metadata": {},
     "output_type": "execute_result"
    },
    {
     "data": {
      "image/png": "[encoded data removed]",
      "text/plain": [
       "<Figure size 1500x300 with 1 Axes>"
      ]
     },
     "metadata": {},
     "output_type": "display_data"
    }
   ],
   "source": [
    "plt.figure(figsize=[15, 3])\n",
    "plt.scatter((ss_atl06_sr['distance']-np.min(ss_atl06_sr['distance']))/1000, ss_atl06_sr.h_mean/1000, \n",
    "            s=10, marker=\"+\", color='black', alpha=0.6)\n",
    "plt.scatter((ss_atl06_sr['distance']-np.min(ss_atl06_sr['distance']))/1000, dem_values/1000, \n",
    "            s=10, marker=\"o\", color='red', alpha=0.6)\n",
    "plt.title(\"\")\n",
    "plt.xlabel('N-S along track distance (km)')\n",
    "plt.ylabel('Elevation (km)')\n",
    "# plt.xlim([11, 11.1])\n",
    "# plt.ylim([0.1, 1.3])"
   ]
  },
  {
   "cell_type": "code",
   "execution_count": 174,
   "id": "78b021ff-9009-4925-8700-bf9368a56bc1",
   "metadata": {
    "tags": []
   },
   "outputs": [
    {
     "name": "stdout",
     "output_type": "stream",
     "text": [
      "Saving file as /home/jovyan/surfit/contributors/ben/blackrock_ATL06_segLen20m_stepDist10m_sampled_usgs3dep-1meter-dem_at_10m.csv\n"
     ]
    }
   ],
   "source": [
    "# Save geodataframe as csv\n",
    "print(f'Saving file as {filename}')\n",
    "ss_atl06_sr.to_csv(filename)"
   ]
  }
 ],
 "metadata": {
  "kernelspec": {
   "display_name": "Python 3 (ipykernel)",
   "language": "python",
   "name": "python3"
  },
  "language_info": {
   "codemirror_mode": {
    "name": "ipython",
    "version": 3
   },
   "file_extension": ".py",
   "mimetype": "text/x-python",
   "name": "python",
   "nbconvert_exporter": "python",
   "pygments_lexer": "ipython3",
   "version": "3.10.12"
  }
 },
 "nbformat": 4,
 "nbformat_minor": 5
}
