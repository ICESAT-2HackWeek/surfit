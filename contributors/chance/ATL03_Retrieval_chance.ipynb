{
 "cells": [
  {
   "cell_type": "markdown",
   "id": "ddce2704-937f-46be-a0c8-fd402cc50037",
   "metadata": {
    "user_expressions": []
   },
   "source": [
    "## ICESat-2 ATL03 SlideRule Demo"
   ]
  },
  {
   "cell_type": "code",
   "execution_count": 18,
   "id": "6ef0bca8",
   "metadata": {
    "tags": []
   },
   "outputs": [],
   "source": [
    "import numpy as np\n",
    "%matplotlib inline\n",
    "import matplotlib.pyplot as plt\n",
    "from sliderule import sliderule, icesat2, earthdata\n",
    "import geopandas as gpd\n",
    "from datetime import datetime\n",
    "from datetime import timedelta\n",
    "import json\n",
    "import math\n",
    "\n",
    "import warnings\n",
    "from IPython import display\n",
    "import json\n",
    "\n",
    "warnings.filterwarnings('ignore')"
   ]
  },
  {
   "cell_type": "code",
   "execution_count": 19,
   "id": "13d96296",
   "metadata": {
    "tags": []
   },
   "outputs": [],
   "source": [
    "url = \"slideruleearth.io\"\n",
    "icesat2.init(url, verbose=False)\n",
    "asset = \"icesat2\""
   ]
  },
  {
   "cell_type": "markdown",
   "id": "0c29474c-b649-4739-a3b7-308c1218f76b",
   "metadata": {
    "user_expressions": []
   },
   "source": [
    "### Retrieve ATL03 elevations with several classification options\n",
    "\n",
    "For two region of interest (blackrock, utqiagvik)"
   ]
  },
  {
   "cell_type": "code",
   "execution_count": 20,
   "id": "5b21d6ac-ae30-4762-9c64-86b518797d0b",
   "metadata": {
    "tags": []
   },
   "outputs": [
    {
     "data": {
      "text/plain": [
       "'~/surfit/data/bbox_blackrock.geojson'"
      ]
     },
     "execution_count": 20,
     "metadata": {},
     "output_type": "execute_result"
    }
   ],
   "source": [
    "poly_fn"
   ]
  },
  {
   "cell_type": "code",
   "execution_count": 21,
   "id": "327224ac-60ff-4997-be7b-02fce657d6a1",
   "metadata": {
    "tags": []
   },
   "outputs": [
    {
     "ename": "FileNotFoundError",
     "evalue": "[Errno 2] No such file or directory: '~/surfit/data/icesat2_tracks.json'",
     "output_type": "error",
     "traceback": [
      "\u001b[0;31m---------------------------------------------------------------------------\u001b[0m",
      "\u001b[0;31mFileNotFoundError\u001b[0m                         Traceback (most recent call last)",
      "Cell \u001b[0;32mIn [21], line 14\u001b[0m\n\u001b[1;32m     11\u001b[0m poly \u001b[38;5;241m=\u001b[39m sliderule\u001b[38;5;241m.\u001b[39mtoregion(pregion)[\u001b[38;5;124m\"\u001b[39m\u001b[38;5;124mpoly\u001b[39m\u001b[38;5;124m\"\u001b[39m]\n\u001b[1;32m     13\u001b[0m \u001b[38;5;66;03m# Opening JSON file\u001b[39;00m\n\u001b[0;32m---> 14\u001b[0m f \u001b[38;5;241m=\u001b[39m \u001b[38;5;28;43mopen\u001b[39;49m\u001b[43m(\u001b[49m\u001b[38;5;124;43mf\u001b[39;49m\u001b[38;5;124;43m\"\u001b[39;49m\u001b[38;5;132;43;01m{\u001b[39;49;00m\u001b[43mpath\u001b[49m\u001b[38;5;132;43;01m}\u001b[39;49;00m\u001b[38;5;124;43micesat2_tracks.json\u001b[39;49m\u001b[38;5;124;43m\"\u001b[39;49m\u001b[43m)\u001b[49m\n\u001b[1;32m     15\u001b[0m data \u001b[38;5;241m=\u001b[39m json\u001b[38;5;241m.\u001b[39mload(f)\n\u001b[1;32m     17\u001b[0m granule_id \u001b[38;5;241m=\u001b[39m data[site][\u001b[38;5;124m'\u001b[39m\u001b[38;5;124mgranule_id\u001b[39m\u001b[38;5;124m'\u001b[39m]\n",
      "File \u001b[0;32m/srv/conda/envs/notebook/lib/python3.10/site-packages/IPython/core/interactiveshell.py:282\u001b[0m, in \u001b[0;36m_modified_open\u001b[0;34m(file, *args, **kwargs)\u001b[0m\n\u001b[1;32m    275\u001b[0m \u001b[38;5;28;01mif\u001b[39;00m file \u001b[38;5;129;01min\u001b[39;00m {\u001b[38;5;241m0\u001b[39m, \u001b[38;5;241m1\u001b[39m, \u001b[38;5;241m2\u001b[39m}:\n\u001b[1;32m    276\u001b[0m     \u001b[38;5;28;01mraise\u001b[39;00m \u001b[38;5;167;01mValueError\u001b[39;00m(\n\u001b[1;32m    277\u001b[0m         \u001b[38;5;124mf\u001b[39m\u001b[38;5;124m\"\u001b[39m\u001b[38;5;124mIPython won\u001b[39m\u001b[38;5;124m'\u001b[39m\u001b[38;5;124mt let you open fd=\u001b[39m\u001b[38;5;132;01m{\u001b[39;00mfile\u001b[38;5;132;01m}\u001b[39;00m\u001b[38;5;124m by default \u001b[39m\u001b[38;5;124m\"\u001b[39m\n\u001b[1;32m    278\u001b[0m         \u001b[38;5;124m\"\u001b[39m\u001b[38;5;124mas it is likely to crash IPython. If you know what you are doing, \u001b[39m\u001b[38;5;124m\"\u001b[39m\n\u001b[1;32m    279\u001b[0m         \u001b[38;5;124m\"\u001b[39m\u001b[38;5;124myou can use builtins\u001b[39m\u001b[38;5;124m'\u001b[39m\u001b[38;5;124m open.\u001b[39m\u001b[38;5;124m\"\u001b[39m\n\u001b[1;32m    280\u001b[0m     )\n\u001b[0;32m--> 282\u001b[0m \u001b[38;5;28;01mreturn\u001b[39;00m \u001b[43mio_open\u001b[49m\u001b[43m(\u001b[49m\u001b[43mfile\u001b[49m\u001b[43m,\u001b[49m\u001b[43m \u001b[49m\u001b[38;5;241;43m*\u001b[39;49m\u001b[43margs\u001b[49m\u001b[43m,\u001b[49m\u001b[43m \u001b[49m\u001b[38;5;241;43m*\u001b[39;49m\u001b[38;5;241;43m*\u001b[39;49m\u001b[43mkwargs\u001b[49m\u001b[43m)\u001b[49m\n",
      "\u001b[0;31mFileNotFoundError\u001b[0m: [Errno 2] No such file or directory: '~/surfit/data/icesat2_tracks.json'"
     ]
    }
   ],
   "source": [
    "########## SET PARAMETERS ######################\n",
    "\n",
    "###### Region of interest #########\n",
    "site = \"blackrock\" # (blackrock, utqiagvik)\n",
    "path = f\"~/surfit/data/\"\n",
    "\n",
    "##### Read input parameters from .json files #####\n",
    "poly_fn = f\"{path}bbox_{site}.geojson\"\n",
    "\n",
    "pregion = gpd.read_file(poly_fn)\n",
    "poly = sliderule.toregion(pregion)[\"poly\"]\n",
    "\n",
    "# Opening JSON file\n",
    "f = open(f\"{path}icesat2_tracks.json\")\n",
    "data = json.load(f)\n",
    "\n",
    "granule_id = data[site]['granule_id']\n",
    "track = int(data[site]['beam'][2])\n",
    "pair = 0 if data[site]['beam'][3]==\"l\" else 1\n",
    "\n",
    "time_start = datetime.strptime(granule_id[6:14], \"%Y%m%d\").strftime(\"%Y-%m-%d\")\n",
    "time_end = (datetime.strptime(granule_id[6:14], \"%Y%m%d\") + timedelta(days=1)).strftime(\"%Y-%m-%d\")\n",
    "rgt = int(granule_id[21:25])\n",
    "cycle = int(granule_id[25:27])\n",
    "\n",
    "filename = f\"{path}{site}_ATL03_{data[site]['beam']}.csv\"\n",
    "print(filename)\n",
    "########## SET PARAMETERS ######################"
   ]
  },
  {
   "cell_type": "markdown",
   "id": "298b7e96-68e3-4736-838f-1eb00a32a0eb",
   "metadata": {
    "user_expressions": []
   },
   "source": [
    "## Calculate ATL06-SR Elevations from ATL03 Photons using SlideRule"
   ]
  },
  {
   "cell_type": "code",
   "execution_count": 22,
   "id": "3605d245",
   "metadata": {
    "tags": []
   },
   "outputs": [
    {
     "ename": "NameError",
     "evalue": "name 'track' is not defined",
     "output_type": "error",
     "traceback": [
      "\u001b[0;31m---------------------------------------------------------------------------\u001b[0m",
      "\u001b[0;31mNameError\u001b[0m                                 Traceback (most recent call last)",
      "File \u001b[0;32m<timed exec>:13\u001b[0m\n",
      "\u001b[0;31mNameError\u001b[0m: name 'track' is not defined"
     ]
    }
   ],
   "source": [
    "%%time\n",
    "\n",
    "##### Set ATL03 sp parameters ##############################\n",
    "# build sliderule parameters for ATL03 subsetting request\n",
    "# SRT_LAND = 0\n",
    "# SRT_OCEAN = 1\n",
    "# SRT_SEA_ICE = 2\n",
    "# SRT_LAND_ICE = 3\n",
    "# SRT_INLAND_WATER = 4\n",
    "parms = {\n",
    "    # processing parameters\n",
    "    \"srt\": 0,\n",
    "    \"len\": 40,\n",
    "    \"res\": 20,\n",
    "    \"track\": track,\n",
    "    # classification and checks\n",
    "    # still return photon segments that fail checks\n",
    "    \"pass_invalid\": True,\n",
    "    # all photons\n",
    "    \"cnf\": 0,\n",
    "    \"cnt\": 5,\n",
    "    \"atl03_geo_fields\": [\"ref_azimuth\", \"ref_elev\", \"geoid\"],\n",
    "    # all land classification flags\n",
    "    \"atl08_class\": [\"atl08_noise\", \"atl08_ground\", \"atl08_canopy\", \"atl08_top_of_canopy\", \"atl08_unclassified\"],\n",
    "    # all photons\n",
    "    \"yapc\": dict(knn=0, win_h=6, win_x=11, min_ph=4, score=0), \n",
    "}\n",
    "\n",
    "# ICESat-2 data release\n",
    "release = '006'\n",
    "\n",
    "# find granule for each region of interest\n",
    "granules_list = earthdata.cmr(short_name='ATL03', polygon=poly, time_start=time_start, time_end=time_end, version=release)\n",
    "\n",
    "# create an empty geodataframe\n",
    "parms[\"poly\"] = poly\n",
    "# gdf = icesat2.atl03sp(parms, asset=asset, version=release, resources=granules_list)\n",
    "gdf = icesat2.atl03sp(parms, asset=asset, resources=granules_list)\n"
   ]
  },
  {
   "cell_type": "code",
   "execution_count": null,
   "id": "38a6f5b5-08f0-45ff-8d8d-ab392d653a4d",
   "metadata": {
    "tags": []
   },
   "outputs": [],
   "source": [
    "# Reduce dataframe for a single beam\n",
    "def reduce_dataframe(gdf, RGT=None, GT=None, track=None, pair=None, cycle=None, beam='', crs=4326):\n",
    "    # convert coordinate reference system\n",
    "    D3 = gdf.to_crs(crs)\n",
    "    # reduce to reference ground track\n",
    "    if RGT is not None:\n",
    "        D3 = D3[D3[\"rgt\"] == RGT]\n",
    "    # reduce to ground track (gt[123][lr]), track ([123]), or pair (l=0, r=1) \n",
    "    gtlookup = {icesat2.GT1L: 1, icesat2.GT1R: 1, icesat2.GT2L: 2, icesat2.GT2R: 2, icesat2.GT3L: 3, icesat2.GT3R: 3}\n",
    "    pairlookup = {icesat2.GT1L: 0, icesat2.GT1R: 1, icesat2.GT2L: 0, icesat2.GT2R: 1, icesat2.GT3L: 0, icesat2.GT3R: 1}\n",
    "    if GT is not None:\n",
    "        D3 = D3[(D3[\"track\"] == gtlookup[GT]) & (D3[\"pair\"] == pairlookup[GT])]\n",
    "    if track is not None:\n",
    "        D3 = D3[D3[\"track\"] == track]\n",
    "    if pair is not None:\n",
    "        D3 = D3[D3[\"pair\"] == pair]\n",
    "    # reduce to weak or strong beams\n",
    "    # tested on cycle 11, where the strong beam in the pair matches the spacecraft orientation.\n",
    "    # Need to check on other cycles\n",
    "    if (beam == 'strong'):\n",
    "        D3 = D3[D3['sc_orient'] == D3['pair']]\n",
    "    elif (beam == 'weak'):\n",
    "        D3 = D3[D3['sc_orient'] != D3['pair']]\n",
    "    # reduce to cycle\n",
    "    if cycle is not None:\n",
    "        D3 = D3[D3[\"cycle\"] == cycle]\n",
    "    # otherwise, return both beams\n",
    "    \n",
    "    D3['x_atc'] = D3['segment_dist']+D3['distance']-np.min(D3['segment_dist'])\n",
    "\n",
    "    # compute orthometric heights using the onboard geoid model (EGM08)\n",
    "    D3['height_ortho'] = D3['height'] - D3['geoid']\n",
    "    \n",
    "    return D3"
   ]
  },
  {
   "cell_type": "code",
   "execution_count": 6,
   "id": "d2ae63e9-0e09-4a0e-917d-0c134d6ab4f3",
   "metadata": {
    "tags": []
   },
   "outputs": [
    {
     "ename": "NameError",
     "evalue": "name 'reduce_dataframe' is not defined",
     "output_type": "error",
     "traceback": [
      "\u001b[0;31m---------------------------------------------------------------------------\u001b[0m",
      "\u001b[0;31mNameError\u001b[0m                                 Traceback (most recent call last)",
      "Cell \u001b[0;32mIn [6], line 3\u001b[0m\n\u001b[1;32m      1\u001b[0m beam_type \u001b[38;5;241m=\u001b[39m \u001b[38;5;124m'\u001b[39m\u001b[38;5;124mstrong\u001b[39m\u001b[38;5;124m'\u001b[39m\n\u001b[1;32m      2\u001b[0m project_srs \u001b[38;5;241m=\u001b[39m \u001b[38;5;124m\"\u001b[39m\u001b[38;5;124mEPSG:4326\u001b[39m\u001b[38;5;124m\"\u001b[39m \u001b[38;5;66;03m#\"EPSG:26912+EPSG:5703\"\u001b[39;00m\n\u001b[0;32m----> 3\u001b[0m D3 \u001b[38;5;241m=\u001b[39m \u001b[43mreduce_dataframe\u001b[49m(gdf, RGT \u001b[38;5;241m=\u001b[39m rgt, track\u001b[38;5;241m=\u001b[39mtrack, pair \u001b[38;5;241m=\u001b[39m pair, beam\u001b[38;5;241m=\u001b[39mbeam_type, crs\u001b[38;5;241m=\u001b[39mproject_srs)\n",
      "\u001b[0;31mNameError\u001b[0m: name 'reduce_dataframe' is not defined"
     ]
    }
   ],
   "source": [
    "beam_type = 'strong'\n",
    "project_srs = \"EPSG:4326\" #\"EPSG:26912+EPSG:5703\"\n",
    "D3 = reduce_dataframe(gdf, RGT = rgt, track=track, pair = pair, beam=beam_type, crs=project_srs)"
   ]
  },
  {
   "cell_type": "code",
   "execution_count": 7,
   "id": "36b400ba-aed4-42d4-910c-4a84ea6dde2f",
   "metadata": {
    "tags": []
   },
   "outputs": [
    {
     "ename": "NameError",
     "evalue": "name 'D3' is not defined",
     "output_type": "error",
     "traceback": [
      "\u001b[0;31m---------------------------------------------------------------------------\u001b[0m",
      "\u001b[0;31mNameError\u001b[0m                                 Traceback (most recent call last)",
      "Cell \u001b[0;32mIn [7], line 1\u001b[0m\n\u001b[0;32m----> 1\u001b[0m \u001b[38;5;28mprint\u001b[39m(\u001b[38;5;28mlen\u001b[39m(\u001b[43mD3\u001b[49m))\n\u001b[1;32m      2\u001b[0m D3\u001b[38;5;241m.\u001b[39mhead()\n",
      "\u001b[0;31mNameError\u001b[0m: name 'D3' is not defined"
     ]
    }
   ],
   "source": [
    "print(len(D3))\n",
    "D3.head()"
   ]
  },
  {
   "cell_type": "code",
   "execution_count": 8,
   "id": "8a4f6f95-21b9-4e90-9848-3c10cc105122",
   "metadata": {
    "tags": []
   },
   "outputs": [
    {
     "ename": "NameError",
     "evalue": "name 'D3' is not defined",
     "output_type": "error",
     "traceback": [
      "\u001b[0;31m---------------------------------------------------------------------------\u001b[0m",
      "\u001b[0;31mNameError\u001b[0m                                 Traceback (most recent call last)",
      "Cell \u001b[0;32mIn [8], line 1\u001b[0m\n\u001b[0;32m----> 1\u001b[0m \u001b[43mD3\u001b[49m\u001b[38;5;241m.\u001b[39mkeys()\n",
      "\u001b[0;31mNameError\u001b[0m: name 'D3' is not defined"
     ]
    }
   ],
   "source": [
    "D3.keys()"
   ]
  },
  {
   "cell_type": "code",
   "execution_count": 9,
   "id": "48581f2a-9fbb-49cf-b50e-f5b47a253e1f",
   "metadata": {
    "tags": []
   },
   "outputs": [
    {
     "ename": "NameError",
     "evalue": "name 'filename' is not defined",
     "output_type": "error",
     "traceback": [
      "\u001b[0;31m---------------------------------------------------------------------------\u001b[0m",
      "\u001b[0;31mNameError\u001b[0m                                 Traceback (most recent call last)",
      "Cell \u001b[0;32mIn [9], line 2\u001b[0m\n\u001b[1;32m      1\u001b[0m \u001b[38;5;66;03m# Save geodataframe as csv\u001b[39;00m\n\u001b[0;32m----> 2\u001b[0m \u001b[38;5;28mprint\u001b[39m(\u001b[38;5;124mf\u001b[39m\u001b[38;5;124m'\u001b[39m\u001b[38;5;124mSaving file as \u001b[39m\u001b[38;5;132;01m{\u001b[39;00m\u001b[43mfilename\u001b[49m\u001b[38;5;132;01m}\u001b[39;00m\u001b[38;5;124m'\u001b[39m)\n\u001b[1;32m      3\u001b[0m D3\u001b[38;5;241m.\u001b[39mto_csv(filename)\n",
      "\u001b[0;31mNameError\u001b[0m: name 'filename' is not defined"
     ]
    }
   ],
   "source": [
    "# Save geodataframe as csv\n",
    "print(f'Saving file as {filename}')\n",
    "D3.to_csv(filename)"
   ]
  },
  {
   "cell_type": "code",
   "execution_count": null,
   "id": "c70163ca-1bd2-414a-9fb9-fc84ef2e68f7",
   "metadata": {},
   "outputs": [],
   "source": []
  }
 ],
 "metadata": {
  "kernelspec": {
   "display_name": "Python 3 (ipykernel)",
   "language": "python",
   "name": "python3"
  },
  "language_info": {
   "codemirror_mode": {
    "name": "ipython",
    "version": 3
   },
   "file_extension": ".py",
   "mimetype": "text/x-python",
   "name": "python",
   "nbconvert_exporter": "python",
   "pygments_lexer": "ipython3",
   "version": "3.10.12"
  }
 },
 "nbformat": 4,
 "nbformat_minor": 5
}
