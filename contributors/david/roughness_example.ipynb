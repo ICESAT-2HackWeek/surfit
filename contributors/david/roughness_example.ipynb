{
 "cells": [
  {
   "cell_type": "markdown",
   "id": "21f9b146-b676-4809-895d-59fbd4cf1035",
   "metadata": {
    "user_expressions": []
   },
   "source": [
    "# Roughness example"
   ]
  },
  {
   "cell_type": "markdown",
   "id": "18905081-fe30-405d-a5d1-a79f8ac6483f",
   "metadata": {
    "user_expressions": []
   },
   "source": [
    "Outline\n",
    "+ Pull in data\n",
    "    - Get geopandas dataframe with per-photon length along track, elevation, and filtering flags (including YAPC?)\n",
    "+ Geophysical corrections\n",
    "+ Remove solar background photons (optional)\n",
    "    - From latitude, date, and albedo at 532 nm, compute upwelling shortwave within IS-2 band\n",
    "    - From field of view and energy per photon (h nu), estimate number of photons per unit time\n",
    "+ Remove specular returns\n",
    "+ Correct for bias due to reflectance variability (optional)\n",
    "+ Deconvolve (either formally or via forward modeling) transmit pulse\n",
    "    - Try Nathan's forward modeling approach\n",
    "    - Direct deconvolution (ifft(fft(photon_distribution)/fft(transmit_pulse_distribution)))\n",
    "+ Deconvolve subsurface reflections\n",
    "    - Understand methods from Lu et al..."
   ]
  },
  {
   "cell_type": "code",
   "execution_count": 1,
   "id": "2e2b5c02-a43c-4f0e-8598-5708e8ba3fc6",
   "metadata": {
    "tags": []
   },
   "outputs": [
    {
     "name": "stderr",
     "output_type": "stream",
     "text": [
      "/srv/conda/envs/notebook/lib/python3.10/site-packages/sliderule/sliderule.py:41: UserWarning: Shapely 2.0 is installed, but because PyGEOS is also installed, GeoPandas will still use PyGEOS by default for now. To force to use and test Shapely 2.0, you have to set the environment variable USE_PYGEOS=0. You can do this before starting the Python process, or in your code before importing geopandas:\n",
      "\n",
      "import os\n",
      "os.environ['USE_PYGEOS'] = '0'\n",
      "import geopandas\n",
      "\n",
      "In a future release, GeoPandas will switch to using Shapely by default. If you are using PyGEOS directly (calling PyGEOS functions on geometries from GeoPandas), this will then stop working and you are encouraged to migrate from PyGEOS to Shapely 2.0 (https://shapely.readthedocs.io/en/latest/migration_pygeos.html).\n",
      "  import geopandas\n"
     ]
    }
   ],
   "source": [
    "from sliderule import sliderule, earthdata, h5, icesat2"
   ]
  },
  {
   "cell_type": "code",
   "execution_count": 2,
   "id": "041afede-13c9-4799-9d99-60cb423b7fa4",
   "metadata": {
    "tags": []
   },
   "outputs": [
    {
     "name": "stderr",
     "output_type": "stream",
     "text": [
      "WARNING:sliderule.sliderule:Client (version (3, 6, 0)) is out of date with the server (version (3, 7, 0))\n"
     ]
    }
   ],
   "source": [
    "sliderule.init(verbose=True)"
   ]
  },
  {
   "cell_type": "markdown",
   "id": "7bb70596-7700-4e1f-b98e-411ca6181a3b",
   "metadata": {
    "user_expressions": []
   },
   "source": [
    "## Pull in data"
   ]
  },
  {
   "cell_type": "code",
   "execution_count": null,
   "id": "38aeddae-eb88-4be0-83cf-4c4b18d0f95c",
   "metadata": {},
   "outputs": [],
   "source": []
  }
 ],
 "metadata": {
  "kernelspec": {
   "display_name": "Python 3 (ipykernel)",
   "language": "python",
   "name": "python3"
  },
  "language_info": {
   "codemirror_mode": {
    "name": "ipython",
    "version": 3
   },
   "file_extension": ".py",
   "mimetype": "text/x-python",
   "name": "python",
   "nbconvert_exporter": "python",
   "pygments_lexer": "ipython3",
   "version": "3.10.12"
  }
 },
 "nbformat": 4,
 "nbformat_minor": 5
}
