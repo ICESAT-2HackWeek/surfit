{
 "cells": [
  {
   "cell_type": "markdown",
   "id": "21f9b146-b676-4809-895d-59fbd4cf1035",
   "metadata": {
    "user_expressions": []
   },
   "source": [
    "# Roughness example"
   ]
  },
  {
   "cell_type": "markdown",
   "id": "18905081-fe30-405d-a5d1-a79f8ac6483f",
   "metadata": {
    "user_expressions": []
   },
   "source": [
    "Outline\n",
    "+ Pull in data\n",
    "    - Get geopandas dataframe with per-photon length along track, elevation, and filtering flags (including YAPC?)\n",
    "+ Geophysical corrections\n",
    "+ Remove solar background photons (optional)\n",
    "    - From latitude, date, and albedo at 532 nm, compute upwelling shortwave within IS-2 band\n",
    "    - From field of view and energy per photon (h nu), estimate number of photons per unit time\n",
    "+ Remove specular returns\n",
    "+ Correct for bias due to reflectance variability (optional)\n",
    "+ Deconvolve (either formally or via forward modeling) transmit pulse\n",
    "    - Try Nathan's forward modeling approach\n",
    "    - Direct deconvolution (ifft(fft(photon_distribution)/fft(transmit_pulse_distribution)))\n",
    "+ Deconvolve subsurface reflections\n",
    "    - Understand methods from Lu et al..."
   ]
  },
  {
   "cell_type": "code",
   "execution_count": 3,
   "id": "2e2b5c02-a43c-4f0e-8598-5708e8ba3fc6",
   "metadata": {
    "tags": []
   },
   "outputs": [],
   "source": [
    "from sliderule import sliderule, earthdata, h5, icesat2\n",
    "import json\n",
    "import os"
   ]
  },
  {
   "cell_type": "code",
   "execution_count": 2,
   "id": "041afede-13c9-4799-9d99-60cb423b7fa4",
   "metadata": {
    "tags": []
   },
   "outputs": [
    {
     "name": "stderr",
     "output_type": "stream",
     "text": [
      "WARNING:sliderule.sliderule:Client (version (3, 6, 0)) is out of date with the server (version (3, 7, 0))\n"
     ]
    }
   ],
   "source": [
    "sliderule.init(verbose=True)"
   ]
  },
  {
   "cell_type": "markdown",
   "id": "7bb70596-7700-4e1f-b98e-411ca6181a3b",
   "metadata": {
    "user_expressions": []
   },
   "source": [
    "## Pull in data"
   ]
  },
  {
   "cell_type": "code",
   "execution_count": 17,
   "id": "38aeddae-eb88-4be0-83cf-4c4b18d0f95c",
   "metadata": {
    "tags": []
   },
   "outputs": [],
   "source": [
    "site = 'utqiagvik'\n",
    "\n",
    "# Load info about data locations\n",
    "with open(os.path.join('..','..','data','icesat2_tracks.json')) as f:\n",
    "    dict_info = json.load(f)\n",
    "\n",
    "region = sliderule.toregion(os.path.join('..','..','data','bbox_' + site + '.geojson'))"
   ]
  },
  {
   "cell_type": "code",
   "execution_count": 10,
   "id": "ffe831c4-b191-40cc-88a6-4be123f82fd8",
   "metadata": {
    "tags": []
   },
   "outputs": [
    {
     "data": {
      "text/plain": [
       "dict_keys(['utqiagvik', 'blackrock'])"
      ]
     },
     "execution_count": 10,
     "metadata": {},
     "output_type": "execute_result"
    }
   ],
   "source": [
    "dict_info.keys()"
   ]
  },
  {
   "cell_type": "code",
   "execution_count": 14,
   "id": "1144e45a-4141-4031-8926-30950d8451f4",
   "metadata": {
    "tags": []
   },
   "outputs": [
    {
     "data": {
      "text/plain": [
       "'../../data/bbox_utqiagvik.json'"
      ]
     },
     "execution_count": 14,
     "metadata": {},
     "output_type": "execute_result"
    }
   ],
   "source": [
    "os.path.join('..','..','data','bbox_' + site + '.json')"
   ]
  },
  {
   "cell_type": "code",
   "execution_count": 15,
   "id": "f99a03c0-32d1-493b-9e26-240757fc37fd",
   "metadata": {
    "tags": []
   },
   "outputs": [
    {
     "data": {
      "text/plain": [
       "'/home/jovyan/code/surfit/contributors/david'"
      ]
     },
     "execution_count": 15,
     "metadata": {},
     "output_type": "execute_result"
    }
   ],
   "source": [
    "os.getcwd()"
   ]
  },
  {
   "cell_type": "code",
   "execution_count": 16,
   "id": "5f72674b-e7e4-427d-be63-d6e07701bbdb",
   "metadata": {
    "tags": []
   },
   "outputs": [
    {
     "data": {
      "text/plain": [
       "['bbox_utqiagvik.geojson',\n",
       " 'icesat2_tracks.json',\n",
       " '.ipynb_checkpoints',\n",
       " 'bbox_blackrock.json']"
      ]
     },
     "execution_count": 16,
     "metadata": {},
     "output_type": "execute_result"
    }
   ],
   "source": [
    "os.listdir(os.path.join('..','..','data'))"
   ]
  },
  {
   "cell_type": "code",
   "execution_count": null,
   "id": "fe354d58-39f9-4cd1-b0c1-d15b4588c168",
   "metadata": {},
   "outputs": [],
   "source": []
  }
 ],
 "metadata": {
  "kernelspec": {
   "display_name": "Python 3 (ipykernel)",
   "language": "python",
   "name": "python3"
  },
  "language_info": {
   "codemirror_mode": {
    "name": "ipython",
    "version": 3
   },
   "file_extension": ".py",
   "mimetype": "text/x-python",
   "name": "python",
   "nbconvert_exporter": "python",
   "pygments_lexer": "ipython3",
   "version": "3.10.12"
  }
 },
 "nbformat": 4,
 "nbformat_minor": 5
}
