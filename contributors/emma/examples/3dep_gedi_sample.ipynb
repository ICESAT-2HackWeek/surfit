{
 "cells": [
  {
   "cell_type": "markdown",
   "id": "8cc742d1-cb49-4e31-961c-0b031679de19",
   "metadata": {},
   "source": [
    "## Sampling 3DEP Example\n",
    "\n",
    "### Purpose\n",
    "Demonstrate how to sample the 3DEP 1m DEMs at GEDI L4A footprints"
   ]
  },
  {
   "cell_type": "code",
   "execution_count": null,
   "id": "2aea43c7-2ed1-4f4f-b834-2b339fe11f4e",
   "metadata": {},
   "outputs": [],
   "source": [
    "import time\n",
    "import matplotlib.pyplot as plt\n",
    "from sliderule import gedi, earthdata, raster\n",
    "import sliderule"
   ]
  },
  {
   "cell_type": "markdown",
   "id": "91a5f594-5f3f-4c67-be6c-8ca36e7832c0",
   "metadata": {},
   "source": [
    "### Initialize client"
   ]
  },
  {
   "cell_type": "code",
   "execution_count": null,
   "id": "6b4faeec-e4ed-43c8-a0a5-1df0a5cb4cb5",
   "metadata": {},
   "outputs": [],
   "source": [
    "gedi.init(\"slideruleearth.io\", verbose=True)"
   ]
  },
  {
   "cell_type": "markdown",
   "id": "f0e6229a-86d8-45f6-b6cc-b73ad52107cc",
   "metadata": {},
   "source": [
    "### Specify region of interest from geojson"
   ]
  },
  {
   "cell_type": "code",
   "execution_count": null,
   "id": "917c09d3-576c-4a6d-a69f-743003b1517b",
   "metadata": {},
   "outputs": [],
   "source": [
    "poly_fn = 'grandmesa.geojson'\n",
    "region = sliderule.toregion(poly_fn)"
   ]
  },
  {
   "cell_type": "markdown",
   "id": "6b10fa1f-a770-4bfd-876c-454c56de667c",
   "metadata": {},
   "source": [
    "### Query USGS \"The National Map\" API for 3DEP 1m products in area of interest"
   ]
  },
  {
   "cell_type": "code",
   "execution_count": null,
   "id": "3e24d9d8-9266-4b98-809a-d6e8ab40fbf5",
   "metadata": {
    "tags": []
   },
   "outputs": [],
   "source": [
    "geojson = earthdata.tnm(short_name='Digital Elevation Model (DEM) 1 meter', polygon=region[\"poly\"])"
   ]
  },
  {
   "cell_type": "markdown",
   "id": "dc648cd6-8416-4c43-b8ca-ec7a3a910d1e",
   "metadata": {},
   "source": [
    "### Make GEDI L4A subset request with 3DEP sampling"
   ]
  },
  {
   "cell_type": "code",
   "execution_count": null,
   "id": "19d90f2c-ae25-4563-9666-8fa74de0aff0",
   "metadata": {},
   "outputs": [],
   "source": [
    "# Build GEDI L4A Request Parameters\n",
    "parms = {\n",
    "    \"poly\": region[\"poly\"],\n",
    "    \"degrade_flag\": 0,\n",
    "    \"l2_quality_flag\": 1,\n",
    "    \"beam\": 0,\n",
    "    \"samples\": {\"3dep\": {\"asset\": \"usgs3dep-1meter-dem\", \"catalog\": geojson}} \n",
    "}\n",
    "\n",
    "# Latch Start Time\n",
    "perf_start = time.perf_counter()\n",
    "\n",
    "# Request GEDI Data\n",
    "gedi04a = gedi.gedi04ap(parms, resources=['GEDI04_A_2019123154305_O02202_03_T00174_02_002_02_V002.h5'])\n",
    "                        \n",
    "# Latch Stop Time\n",
    "perf_stop = time.perf_counter()\n",
    "\n",
    "# Display Statistics\n",
    "perf_duration = perf_stop - perf_start\n",
    "print(\"Completed in {:.3f} seconds of wall-clock time\".format(perf_duration))\n",
    "print(\"Received {} footprints\".format(gedi04a.shape[0]))\n",
    "if len(gedi04a) > 0:\n",
    "    print(\"Beams: {}\".format(gedi04a[\"beam\"].unique()))"
   ]
  },
  {
   "cell_type": "code",
   "execution_count": null,
   "id": "983fc7fe-0426-4f1f-9785-5d3a15dcc7b3",
   "metadata": {
    "tags": []
   },
   "outputs": [],
   "source": [
    "gedi04a"
   ]
  },
  {
   "cell_type": "markdown",
   "id": "87e57e7e-cafe-451c-8fee-cc2311884a4a",
   "metadata": {},
   "source": [
    "### Massage DataFrame: trim NaN and no-data rows and flatten samples"
   ]
  },
  {
   "cell_type": "code",
   "execution_count": null,
   "id": "28df7f4d-085c-4296-8651-974075d20a0a",
   "metadata": {
    "tags": []
   },
   "outputs": [],
   "source": [
    "gdf = gedi04a[gedi04a[\"3dep.value\"].notna()]"
   ]
  },
  {
   "cell_type": "code",
   "execution_count": null,
   "id": "c63bea65-f811-4d74-8101-f1209cdfcb54",
   "metadata": {
    "tags": []
   },
   "outputs": [],
   "source": [
    "def getFirstValue(x):\n",
    "    if type(x[\"3dep.value\"]) == float:\n",
    "        return x['3dep.value']\n",
    "    else:\n",
    "        return x['3dep.value'][0]\n",
    "gdf[\"3dep\"] = gdf.apply(lambda x: getFirstValue(x), axis=1)"
   ]
  },
  {
   "cell_type": "code",
   "execution_count": null,
   "id": "b9f50ffd-cf9d-4d5f-8064-769156876861",
   "metadata": {
    "tags": []
   },
   "outputs": [],
   "source": [
    "gdf = gdf[gdf[\"3dep\"] > -9999.0]"
   ]
  },
  {
   "cell_type": "markdown",
   "id": "6ce24753-f025-4093-9193-b096549e28fc",
   "metadata": {},
   "source": [
    "### Plot elevations using coordinates"
   ]
  },
  {
   "cell_type": "code",
   "execution_count": null,
   "id": "30801862-83b9-42ee-9f4c-e63585a851d9",
   "metadata": {},
   "outputs": [],
   "source": [
    "f, ax = plt.subplots(1, 2, figsize=[12,8])\n",
    "ax[0].set_title(\"GEDI\")\n",
    "ax[0].set_aspect('equal')\n",
    "gdf.plot(ax=ax[0], column='elevation', cmap='inferno', s=0.1)\n",
    "ax[1].set_title(\"3DEP\")\n",
    "ax[1].set_aspect('equal')\n",
    "gdf.plot(ax=ax[1], column='3dep', cmap='inferno', s=0.1)"
   ]
  },
  {
   "cell_type": "markdown",
   "id": "f7abd8b2-e431-48c1-8271-f6e1f9a7c4c5",
   "metadata": {},
   "source": [
    "### Plot comparison of elevations"
   ]
  },
  {
   "cell_type": "code",
   "execution_count": null,
   "id": "208e540d-2f2c-4d90-a8d1-58f376a42408",
   "metadata": {
    "tags": []
   },
   "outputs": [],
   "source": [
    "fig,ax = plt.subplots(num=None, figsize=(10, 8))\n",
    "fig.set_facecolor('white')\n",
    "fig.canvas.header_visible = False\n",
    "ax.set_title(\"Elevations between GEDI and 3DEP\")\n",
    "ax.set_xlabel('UTC')\n",
    "ax.set_ylabel('height (m)')\n",
    "ax.yaxis.grid(True)\n",
    "sc1 = ax.scatter(gdf.index.values, gdf[\"elevation\"].values, c='blue', s=2.5)\n",
    "sc2 = ax.scatter(gdf.index.values, gdf[\"3dep\"].values, c='green', s=2.5)\n",
    "plt.show()"
   ]
  },
  {
   "cell_type": "markdown",
   "id": "ae8a9ab1-48bf-44a1-9ba1-6446c0173c9a",
   "metadata": {},
   "source": [
    "### Plot Histogram of Differences"
   ]
  },
  {
   "cell_type": "code",
   "execution_count": null,
   "id": "47a2e378-4bd1-460e-8e10-ee9c07d6de47",
   "metadata": {
    "tags": []
   },
   "outputs": [],
   "source": [
    "gdf['elev_diff'] = gdf['elevation'] - gdf['3dep']"
   ]
  },
  {
   "cell_type": "code",
   "execution_count": null,
   "id": "4d16ef5c-0fda-4e4c-ae3c-e7609fe4593f",
   "metadata": {
    "tags": []
   },
   "outputs": [],
   "source": [
    "plt.hist(gdf['elev_diff'], bins=128)"
   ]
  },
  {
   "cell_type": "code",
   "execution_count": null,
   "id": "480aad8a-3a54-4354-a15b-b429143f699b",
   "metadata": {},
   "outputs": [],
   "source": []
  }
 ],
 "metadata": {
  "kernelspec": {
   "display_name": "Python 3 (ipykernel)",
   "language": "python",
   "name": "python3"
  },
  "language_info": {
   "codemirror_mode": {
    "name": "ipython",
    "version": 3
   },
   "file_extension": ".py",
   "mimetype": "text/x-python",
   "name": "python",
   "nbconvert_exporter": "python",
   "pygments_lexer": "ipython3",
   "version": "3.11.3"
  }
 },
 "nbformat": 4,
 "nbformat_minor": 5
}
