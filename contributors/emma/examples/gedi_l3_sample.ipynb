{
 "cells": [
  {
   "cell_type": "markdown",
   "id": "29ec1570-d65b-4e52-9d4d-d93604882190",
   "metadata": {},
   "source": [
    "## GEDI L3 Example\n",
    "\n",
    "### Purpose\n",
    "Demonstrate how to sample the GEDI L3 rasters at generated ATL06-SR points"
   ]
  },
  {
   "cell_type": "markdown",
   "id": "e29fa51f-77bf-4c55-a99e-a4f166833755",
   "metadata": {},
   "source": [
    "#### Import Packages"
   ]
  },
  {
   "cell_type": "code",
   "execution_count": null,
   "id": "9dada6f9-e621-4a3a-825b-065ef6846645",
   "metadata": {
    "tags": []
   },
   "outputs": [],
   "source": [
    "import matplotlib.pyplot as plt\n",
    "import matplotlib\n",
    "import sliderule\n",
    "from sliderule import icesat2, raster"
   ]
  },
  {
   "cell_type": "markdown",
   "id": "53e68348-2d49-4e22-b665-1acd8b367dcf",
   "metadata": {},
   "source": [
    "#### Initialize SlideRule Python Client"
   ]
  },
  {
   "cell_type": "code",
   "execution_count": null,
   "id": "93edfc47-1cd5-4927-962c-fd447c9e807a",
   "metadata": {
    "tags": []
   },
   "outputs": [],
   "source": [
    "icesat2.init(\"slideruleearth.io\", verbose=True)"
   ]
  },
  {
   "cell_type": "markdown",
   "id": "c588e3ea-8ab8-452b-8f5a-9fd8d6364ca9",
   "metadata": {
    "tags": []
   },
   "source": [
    "#### Make Processing Request to SlideRule\n",
    "ATL06-SR request includes the `samples` parameter to specify that GEDI L3 Mean Elevation dataset should be sampled at each generated ATL06 elevation."
   ]
  },
  {
   "cell_type": "code",
   "execution_count": null,
   "id": "4ebef6dc-c05d-4b97-973c-05da9565e841",
   "metadata": {
    "tags": []
   },
   "outputs": [],
   "source": [
    "asset = \"icesat2\"\n",
    "resource = \"ATL03_20220105023009_02111406_005_01.h5\"\n",
    "region = sliderule.toregion('grandmesa.geojson')\n",
    "bbox = raster.poly2bbox(region[\"poly\"])\n",
    "parms = { \"poly\": region['poly'],\n",
    "          \"cnf\": \"atl03_high\",\n",
    "          \"ats\": 5.0,\n",
    "          \"cnt\": 5,\n",
    "          \"len\": 20.0,\n",
    "          \"res\": 10.0,\n",
    "          \"maxi\": 1,\n",
    "          \"samples\": {\"gedi\": {\"asset\": \"gedil3-elevation\", \"aoi_bbox\": bbox}} \n",
    "}\n",
    "gdf = icesat2.atl06p(parms, asset=asset, resources=[resource])"
   ]
  },
  {
   "cell_type": "markdown",
   "id": "b779ddf2-f9ea-41c2-bb9a-1db92e277fe7",
   "metadata": {},
   "source": [
    "#### Display GeoDataFrame\n",
    "Notice the columns that start with \"gedi\""
   ]
  },
  {
   "cell_type": "code",
   "execution_count": null,
   "id": "e19bae20-140e-4d55-bb73-64a9630096d1",
   "metadata": {
    "tags": []
   },
   "outputs": [],
   "source": [
    "gdf"
   ]
  },
  {
   "cell_type": "markdown",
   "id": "6178683e-2d08-4ccb-a80e-4bb997876330",
   "metadata": {},
   "source": [
    "#### Print Out File Directory\n",
    "When a GeoDataFrame includes samples from rasters, each sample value has a file id that is used to look up the file name of the source raster for that value."
   ]
  },
  {
   "cell_type": "code",
   "execution_count": null,
   "id": "b4c99349-c44e-4e59-bd31-ad6121df2f80",
   "metadata": {},
   "outputs": [],
   "source": [
    "gdf.attrs['file_directory']"
   ]
  },
  {
   "cell_type": "code",
   "execution_count": null,
   "id": "06979327-fe4d-4a45-b8da-21356296a341",
   "metadata": {
    "tags": []
   },
   "outputs": [],
   "source": [
    "gdf[\"gedi.value\"]"
   ]
  },
  {
   "cell_type": "markdown",
   "id": "32beb064-f10f-46e1-8756-a03756e069fd",
   "metadata": {},
   "source": [
    "#### Plot the Different GEDI Values against the SlideRule ATL06-SR Values"
   ]
  },
  {
   "cell_type": "code",
   "execution_count": null,
   "id": "12645d05-fda6-44bd-878b-37b0aa217065",
   "metadata": {},
   "outputs": [],
   "source": [
    "# Setup Plot\n",
    "fig,ax = plt.subplots(num=None, figsize=(10, 8))\n",
    "fig.set_facecolor('white')\n",
    "fig.canvas.header_visible = False\n",
    "ax.set_title(\"SlideRule vs. GEDI Elevations\")\n",
    "ax.set_xlabel('UTC')\n",
    "ax.set_ylabel('height (m)')\n",
    "legend_elements = []\n",
    "\n",
    "# Plot SlideRule ATL06 Elevations\n",
    "df = gdf[(gdf['rgt'] == 211) & (gdf['gt'] == 30) & (gdf['cycle'] == 14)]\n",
    "sc1 = ax.scatter(df.index.values, df[\"h_mean\"].values, c='red', s=2.5)\n",
    "legend_elements.append(matplotlib.lines.Line2D([0], [0], color='red', lw=6, label='ATL06-SR'))\n",
    "\n",
    "# Plot GEDI Elevations\n",
    "sc2 = ax.scatter(df.index.values, df[\"gedi.value\"].values, c='blue', s=2.5)\n",
    "legend_elements.append(matplotlib.lines.Line2D([0], [0], color='blue', lw=6, label='GEDI'))\n",
    "\n",
    "# Display Legend\n",
    "lgd = ax.legend(handles=legend_elements, loc=3, frameon=True)\n",
    "lgd.get_frame().set_alpha(1.0)\n",
    "lgd.get_frame().set_edgecolor('white')\n",
    "\n",
    "# Show Plot\n",
    "plt.show()"
   ]
  },
  {
   "cell_type": "code",
   "execution_count": null,
   "id": "5a5455a6-f20b-4ddc-8ebf-a1904c2987dc",
   "metadata": {},
   "outputs": [],
   "source": []
  }
 ],
 "metadata": {
  "kernelspec": {
   "display_name": "Python 3 (ipykernel)",
   "language": "python",
   "name": "python3"
  },
  "language_info": {
   "codemirror_mode": {
    "name": "ipython",
    "version": 3
   },
   "file_extension": ".py",
   "mimetype": "text/x-python",
   "name": "python",
   "nbconvert_exporter": "python",
   "pygments_lexer": "ipython3",
   "version": "3.11.3"
  }
 },
 "nbformat": 4,
 "nbformat_minor": 5
}
