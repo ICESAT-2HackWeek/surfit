{
 "cells": [
  {
   "cell_type": "markdown",
   "id": "29ec1570-d65b-4e52-9d4d-d93604882190",
   "metadata": {},
   "source": [
    "## GEDI L4B Example\n",
    "\n",
    "### Purpose\n",
    "Demonstrate how to sample the GEDI L4B raster for BioDensity at generated PhoREAL points "
   ]
  },
  {
   "cell_type": "markdown",
   "id": "e29fa51f-77bf-4c55-a99e-a4f166833755",
   "metadata": {},
   "source": [
    "#### Import Packages"
   ]
  },
  {
   "cell_type": "code",
   "execution_count": null,
   "id": "9dada6f9-e621-4a3a-825b-065ef6846645",
   "metadata": {
    "tags": []
   },
   "outputs": [],
   "source": [
    "import matplotlib.pyplot as plt\n",
    "import matplotlib\n",
    "import sliderule\n",
    "from sliderule import icesat2"
   ]
  },
  {
   "cell_type": "markdown",
   "id": "53e68348-2d49-4e22-b665-1acd8b367dcf",
   "metadata": {},
   "source": [
    "#### Initialize SlideRule Python Client"
   ]
  },
  {
   "cell_type": "code",
   "execution_count": null,
   "id": "93edfc47-1cd5-4927-962c-fd447c9e807a",
   "metadata": {
    "tags": []
   },
   "outputs": [],
   "source": [
    "icesat2.init(\"slideruleearth.io\", verbose=True)"
   ]
  },
  {
   "cell_type": "markdown",
   "id": "c588e3ea-8ab8-452b-8f5a-9fd8d6364ca9",
   "metadata": {
    "tags": []
   },
   "source": [
    "#### Make Processing Request to SlideRule\n",
    "ATL06-SR request includes the `samples` parameter to specify that GEDI L3 Mean Elevation dataset should be sampled at each generated ATL06 elevation."
   ]
  },
  {
   "cell_type": "code",
   "execution_count": null,
   "id": "4ebef6dc-c05d-4b97-973c-05da9565e841",
   "metadata": {
    "tags": []
   },
   "outputs": [],
   "source": [
    "asset = \"icesat2\"\n",
    "resource = \"ATL03_20220105023009_02111406_005_01.h5\"\n",
    "region = sliderule.toregion('grandmesa.geojson')\n",
    "parms = { \n",
    "    \"poly\": region['poly'],\n",
    "    \"srt\": icesat2.SRT_LAND,\n",
    "    \"len\": 100,\n",
    "    \"res\": 100,\n",
    "    \"pass_invalid\": True, \n",
    "    \"atl08_class\": [\"atl08_ground\", \"atl08_canopy\", \"atl08_top_of_canopy\"],\n",
    "    \"phoreal\": {\"binsize\": 1.0, \"geoloc\": \"center\", \"use_abs_h\": False, \"send_waveform\": False},\n",
    "    \"samples\": {\"gedi\": {\"asset\": \"gedil4b\"}} \n",
    "}\n",
    "gdf = icesat2.atl08p(parms, asset=asset, resources=[resource], keep_id=True)"
   ]
  },
  {
   "cell_type": "markdown",
   "id": "b779ddf2-f9ea-41c2-bb9a-1db92e277fe7",
   "metadata": {},
   "source": [
    "#### Display GeoDataFrame Columns\n",
    "Notice the columns that start with \"gedi\", they are the sampled raster data"
   ]
  },
  {
   "cell_type": "code",
   "execution_count": null,
   "id": "e19bae20-140e-4d55-bb73-64a9630096d1",
   "metadata": {
    "tags": []
   },
   "outputs": [],
   "source": [
    "gdf.keys()"
   ]
  },
  {
   "cell_type": "markdown",
   "id": "6178683e-2d08-4ccb-a80e-4bb997876330",
   "metadata": {},
   "source": [
    "#### Print Out File Directory\n",
    "When a GeoDataFrame includes samples from rasters, each sample value has a file id that is used to look up the file name of the source raster for that value."
   ]
  },
  {
   "cell_type": "code",
   "execution_count": null,
   "id": "b4c99349-c44e-4e59-bd31-ad6121df2f80",
   "metadata": {},
   "outputs": [],
   "source": [
    "gdf.attrs['file_directory']"
   ]
  },
  {
   "cell_type": "markdown",
   "id": "6cb9005b-0a80-41fa-a31c-60c5b334dd43",
   "metadata": {
    "tags": []
   },
   "source": [
    "#### Filter GeoDataFrame Based on Valid Values"
   ]
  },
  {
   "cell_type": "code",
   "execution_count": null,
   "id": "477dfe8b-28a7-497a-b67a-139f544b2f14",
   "metadata": {
    "tags": []
   },
   "outputs": [],
   "source": [
    "df = gdf[gdf[\"gedi.value\"] > -9999.0]\n",
    "df"
   ]
  },
  {
   "cell_type": "markdown",
   "id": "32beb064-f10f-46e1-8756-a03756e069fd",
   "metadata": {},
   "source": [
    "#### Plot the Different GEDI Values against the SlideRule PhoREAL Values"
   ]
  },
  {
   "cell_type": "code",
   "execution_count": null,
   "id": "12645d05-fda6-44bd-878b-37b0aa217065",
   "metadata": {},
   "outputs": [],
   "source": [
    "# Setup Plot\n",
    "fig,ax = plt.subplots(num=None, figsize=(10, 8))\n",
    "fig.set_facecolor('white')\n",
    "fig.canvas.header_visible = False\n",
    "ax.set_title(\"SlideRule vs. GEDI Elevations\")\n",
    "ax.set_xlabel('UTC')\n",
    "ax.set_ylabel('height (m)')\n",
    "legend_elements = []\n",
    "\n",
    "# Plot SlideRule ATL06 Elevations\n",
    "sc1 = ax.scatter(df.index.values, df[\"veg_ph_count\"].values, c='red', s=2.5)\n",
    "legend_elements.append(matplotlib.lines.Line2D([0], [0], color='red', lw=6, label='ATL06-SR'))\n",
    "\n",
    "# Plot GEDI Elevations\n",
    "sc2 = ax.scatter(df.index.values, df[\"gedi.value\"].values, c='blue', s=2.5)\n",
    "legend_elements.append(matplotlib.lines.Line2D([0], [0], color='blue', lw=6, label='GEDI'))\n",
    "\n",
    "# Display Legend\n",
    "lgd = ax.legend(handles=legend_elements, loc=3, frameon=True)\n",
    "lgd.get_frame().set_alpha(1.0)\n",
    "lgd.get_frame().set_edgecolor('white')\n",
    "\n",
    "# Show Plot\n",
    "plt.show()"
   ]
  },
  {
   "cell_type": "code",
   "execution_count": null,
   "id": "b5881734-c907-4944-8ce0-819551d632b9",
   "metadata": {},
   "outputs": [],
   "source": []
  }
 ],
 "metadata": {
  "kernelspec": {
   "display_name": "Python 3 (ipykernel)",
   "language": "python",
   "name": "python3"
  },
  "language_info": {
   "codemirror_mode": {
    "name": "ipython",
    "version": 3
   },
   "file_extension": ".py",
   "mimetype": "text/x-python",
   "name": "python",
   "nbconvert_exporter": "python",
   "pygments_lexer": "ipython3",
   "version": "3.11.3"
  }
 },
 "nbformat": 4,
 "nbformat_minor": 5
}
