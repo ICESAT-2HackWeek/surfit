{
 "cells": [
  {
   "cell_type": "markdown",
   "id": "29ec1570-d65b-4e52-9d4d-d93604882190",
   "metadata": {},
   "source": [
    "## Multi-Mission Grand Mesa Example\n",
    "\n",
    "### Purpose\n",
    "Demonstrate how to process and sample the various datasets SlideRule supports over the Grand Mesa Colorado region."
   ]
  },
  {
   "cell_type": "markdown",
   "id": "e29fa51f-77bf-4c55-a99e-a4f166833755",
   "metadata": {},
   "source": [
    "#### Import Packages"
   ]
  },
  {
   "cell_type": "code",
   "execution_count": null,
   "id": "9dada6f9-e621-4a3a-825b-065ef6846645",
   "metadata": {
    "tags": []
   },
   "outputs": [],
   "source": [
    "import matplotlib.pyplot as plt\n",
    "import matplotlib\n",
    "import geopandas\n",
    "import sliderule\n",
    "from sliderule import icesat2, gedi, earthdata"
   ]
  },
  {
   "cell_type": "markdown",
   "id": "53e68348-2d49-4e22-b665-1acd8b367dcf",
   "metadata": {},
   "source": [
    "#### Initialize SlideRule Python Client"
   ]
  },
  {
   "cell_type": "code",
   "execution_count": null,
   "id": "93edfc47-1cd5-4927-962c-fd447c9e807a",
   "metadata": {
    "tags": []
   },
   "outputs": [],
   "source": [
    "sliderule.init(\"slideruleearth.io\", verbose=True)"
   ]
  },
  {
   "cell_type": "markdown",
   "id": "c588e3ea-8ab8-452b-8f5a-9fd8d6364ca9",
   "metadata": {
    "tags": []
   },
   "source": [
    "#### Setup Processing Parameters\n",
    "* Single granule over the Grand Mesa region of interest\n",
    "* Run PhoREAL algorithm at 1m vertical bin resolution\n",
    "* Sampling LandSat HLS data\n",
    "* Sampling GEDI L4B data"
   ]
  },
  {
   "cell_type": "code",
   "execution_count": null,
   "id": "d923a9e7-d634-4cb2-99ae-42f6d1f166a5",
   "metadata": {
    "tags": []
   },
   "outputs": [],
   "source": [
    "asset = \"icesat2\"\n",
    "resource = \"ATL03_20220105023009_02111406_005_01.h5\""
   ]
  },
  {
   "cell_type": "code",
   "execution_count": null,
   "id": "636f5e23-76c0-492b-9301-c47c8d39c81b",
   "metadata": {
    "tags": []
   },
   "outputs": [],
   "source": [
    "region = sliderule.toregion('grandmesa.geojson')\n",
    "catalog = earthdata.stac(short_name=\"HLS\", polygon=region[\"poly\"], time_start=\"2022-01-01T00:00:00Z\", time_end=\"2022-03-01T00:00:00Z\", as_str=True)"
   ]
  },
  {
   "cell_type": "code",
   "execution_count": null,
   "id": "d8c1e30a-fd05-4652-8d5b-f8bc6bb30d78",
   "metadata": {
    "tags": []
   },
   "outputs": [],
   "source": [
    "samples = {\n",
    "    \"landsat\": {\n",
    "        \"asset\": \"landsat-hls\",\n",
    "        \"catalog\": catalog,\n",
    "        \"closest_time\": \"2022-01-05T00:00:00Z\", \n",
    "        \"bands\": [\"NDVI\"]\n",
    "    },\n",
    "    \"gedi\": {\n",
    "        \"asset\": \"gedil4b\"\n",
    "    }   \n",
    "}"
   ]
  },
  {
   "cell_type": "code",
   "execution_count": null,
   "id": "00b01ed7-c5dc-4e72-ac43-cb195b1641ab",
   "metadata": {
    "tags": []
   },
   "outputs": [],
   "source": [
    "parms = { \n",
    "    \"poly\": region['poly'],\n",
    "    \"ats\": 5.0,\n",
    "    \"cnt\": 5,\n",
    "    \"len\": 20.0,\n",
    "    \"res\": 10.0,\n",
    "    \"atl08_class\": [\n",
    "        \"atl08_ground\", \n",
    "        \"atl08_canopy\", \n",
    "        \"atl08_top_of_canopy\"\n",
    "    ],\n",
    "    \"maxi\": 1,\n",
    "    \"phoreal\": {\n",
    "        \"binsize\": 1.0, \n",
    "        \"geoloc\": \"center\", \n",
    "        \"use_abs_h\": False, \n",
    "        \"send_waveform\": False\n",
    "    },\n",
    "    \"samples\": samples\n",
    "}"
   ]
  },
  {
   "cell_type": "markdown",
   "id": "8e6e45f5-7f30-4b1f-a2d3-5dc4d03b9df8",
   "metadata": {
    "tags": []
   },
   "source": [
    "#### Make ICESat-2 Processing Request to SlideRule (with LandSat and GEDI sampling)"
   ]
  },
  {
   "cell_type": "code",
   "execution_count": null,
   "id": "07ad8922-8484-46ee-b259-871b8a9ef22b",
   "metadata": {
    "tags": []
   },
   "outputs": [],
   "source": [
    "atl08 = icesat2.atl08p(parms, asset=asset, resources=[resource], keep_id=True)"
   ]
  },
  {
   "cell_type": "markdown",
   "id": "b779ddf2-f9ea-41c2-bb9a-1db92e277fe7",
   "metadata": {},
   "source": [
    "#### Display ATL08 GeoDataFrame\n",
    "Notice the columns that start with \"landsat\" and \"gedi\""
   ]
  },
  {
   "cell_type": "code",
   "execution_count": null,
   "id": "e19bae20-140e-4d55-bb73-64a9630096d1",
   "metadata": {
    "tags": []
   },
   "outputs": [],
   "source": [
    "atl08"
   ]
  },
  {
   "cell_type": "code",
   "execution_count": null,
   "id": "93996a79-8238-49e5-b57f-4e687ab48f9f",
   "metadata": {
    "tags": []
   },
   "outputs": [],
   "source": [
    "atl08.keys()"
   ]
  },
  {
   "cell_type": "markdown",
   "id": "4bcd03a3-17ef-411b-8575-b11b36130c73",
   "metadata": {},
   "source": [
    "#### Print Out File Directory\n",
    "When a GeoDataFrame includes samples from rasters, each sample value has a file id that is used to look up the file name of the source raster for that value."
   ]
  },
  {
   "cell_type": "code",
   "execution_count": null,
   "id": "b4c99349-c44e-4e59-bd31-ad6121df2f80",
   "metadata": {},
   "outputs": [],
   "source": [
    "atl08.attrs['file_directory']"
   ]
  },
  {
   "cell_type": "markdown",
   "id": "ca445c0a-1cd4-4a6a-94fa-6796b7bf56f5",
   "metadata": {},
   "source": [
    "#### Make GEDI Process Request to SlideRule"
   ]
  },
  {
   "cell_type": "code",
   "execution_count": null,
   "id": "d8a301c9-44a9-44b6-9870-9d7021b6ad04",
   "metadata": {
    "tags": []
   },
   "outputs": [],
   "source": [
    "# Build GEDI L4A Request Parameters\n",
    "parms = {\n",
    "    \"poly\": region[\"poly\"],\n",
    "    \"degrade_flag\": 0,\n",
    "    \"l2_quality_flag\": 1,\n",
    "    \"beam\": 0,\n",
    "    \"samples\": samples\n",
    "}\n",
    "\n",
    "# Turn verbose off\n",
    "#sliderule.set_verbose(False)\n",
    "\n",
    "# Request GEDI L4A Data\n",
    "gedi04a = gedi.gedi04ap(parms)                      "
   ]
  },
  {
   "cell_type": "markdown",
   "id": "3c54c72b-23ee-4fad-b230-2b848c3b9739",
   "metadata": {
    "tags": []
   },
   "source": [
    "#### Display GEDI 04A GeoDataFrame"
   ]
  },
  {
   "cell_type": "code",
   "execution_count": null,
   "id": "ebbe90d5-d695-4818-a20a-9670dccfbff2",
   "metadata": {
    "tags": []
   },
   "outputs": [],
   "source": [
    "gedi04a"
   ]
  },
  {
   "cell_type": "markdown",
   "id": "fea880d6-97e9-4cf3-9640-c1f0061eef62",
   "metadata": {
    "tags": []
   },
   "source": [
    "#### Plot GEDI L4A Data"
   ]
  },
  {
   "cell_type": "code",
   "execution_count": null,
   "id": "652c40f7-7ed0-45fe-9fff-ed177b92e5d0",
   "metadata": {
    "tags": []
   },
   "outputs": [],
   "source": [
    "f, ax = plt.subplots(1, 1, figsize=[12,8])\n",
    "ax.set_title(\"Above Ground BioDensity\")\n",
    "ax.set_aspect('equal')\n",
    "vmin_hr, vmax_hr = gedi04a['agbd'].quantile((0.2, 0.8))\n",
    "gedi04a.plot(ax=ax, column='agbd', cmap='inferno', s=1.0, vmin=vmin_hr, vmax=vmax_hr)"
   ]
  },
  {
   "cell_type": "markdown",
   "id": "04d53946-7830-4cab-b9e0-5afb7cc97b9f",
   "metadata": {
    "tags": []
   },
   "source": [
    "#### Perform Spatial Join (nearest) on GEDI L4A and ATL08/GEDI L4B/LandSat HLS Data"
   ]
  },
  {
   "cell_type": "code",
   "execution_count": null,
   "id": "805ac5e8-5577-48e4-bd72-e331959845e1",
   "metadata": {
    "tags": []
   },
   "outputs": [],
   "source": [
    "import warnings\n",
    "with warnings.catch_warnings():\n",
    "    warnings.simplefilter(\"ignore\")\n",
    "    mmds = geopandas.sjoin_nearest(atl08, gedi04a, how='left', lsuffix=\"atl08\", rsuffix=\"gedi04a\")"
   ]
  },
  {
   "cell_type": "code",
   "execution_count": null,
   "id": "760d5317-6b5b-4e42-9588-bae4b5bdc4f5",
   "metadata": {
    "tags": []
   },
   "outputs": [],
   "source": [
    "mmds"
   ]
  },
  {
   "cell_type": "code",
   "execution_count": null,
   "id": "b793b0d7-2f1a-4c3b-9e81-e670b78e3438",
   "metadata": {
    "tags": []
   },
   "outputs": [],
   "source": [
    "mmds.keys()"
   ]
  },
  {
   "cell_type": "markdown",
   "id": "ef6a8bae-c64f-4c15-bd7e-bc4b8cccfa4f",
   "metadata": {},
   "source": [
    "#### Plot the Different GEDI/ATL08-PhoREAL/LandSat Values"
   ]
  },
  {
   "cell_type": "code",
   "execution_count": null,
   "id": "12645d05-fda6-44bd-878b-37b0aa217065",
   "metadata": {},
   "outputs": [],
   "source": [
    "# Setup Plot\n",
    "fig,ax = plt.subplots(num=None, figsize=(10, 8))\n",
    "fig.set_facecolor('white')\n",
    "fig.canvas.header_visible = False\n",
    "ax.set_title(\"SlideRule vs. Landsat NDVI\")\n",
    "ax.set_xlabel('UTC')\n",
    "ax.set_ylabel('height (m)')\n",
    "legend_elements = []\n",
    "\n",
    "# Filter DataFrame\n",
    "df = mmds[(mmds['rgt'] == 211) & (mmds['gt'] == 30) & (mmds['cycle'] == 14)]\n",
    "df = df[df[\"landsat.value_gedi04a\"] < 100]\n",
    "df = df[df[\"gedi.value_gedi04a\"] > -100]\n",
    "\n",
    "# Plot SlideRule ATL08 Vegetation Photon Counts\n",
    "sc1 = ax.scatter(df.index.values, df[\"veg_ph_count\"].values, c='red', s=2.5)\n",
    "legend_elements.append(matplotlib.lines.Line2D([0], [0], color='red', lw=6, label='ATL08'))\n",
    "\n",
    "# Plot GEDI L4B AGBD\n",
    "sc2 = ax.scatter(df.index.values, df[\"gedi.value_gedi04a\"].values, c='blue', s=2.5)\n",
    "legend_elements.append(matplotlib.lines.Line2D([0], [0], color='blue', lw=6, label='L4B AGBD'))\n",
    "\n",
    "# Plot GEDI L4A AGBD\n",
    "sc3 = ax.scatter(df.index.values, df[\"agbd\"].values, c='green', s=2.5)\n",
    "legend_elements.append(matplotlib.lines.Line2D([0], [0], color='green', lw=6, label='L4A AGBD'))\n",
    "\n",
    "# Plot LandSat NVDI\n",
    "sc3 = ax.scatter(df.index.values, df[\"landsat.value_gedi04a\"].values, c='orange', s=2.5)\n",
    "legend_elements.append(matplotlib.lines.Line2D([0], [0], color='orange', lw=6, label='HLS NVDI'))\n",
    "\n",
    "\n",
    "# Display Legend\n",
    "lgd = ax.legend(handles=legend_elements, loc=2, frameon=True)\n",
    "lgd.get_frame().set_alpha(1.0)\n",
    "lgd.get_frame().set_edgecolor('white')\n",
    "\n",
    "# Show Plot\n",
    "plt.show()"
   ]
  },
  {
   "cell_type": "code",
   "execution_count": null,
   "id": "5a5455a6-f20b-4ddc-8ebf-a1904c2987dc",
   "metadata": {},
   "outputs": [],
   "source": []
  }
 ],
 "metadata": {
  "kernelspec": {
   "display_name": "Python 3 (ipykernel)",
   "language": "python",
   "name": "python3"
  },
  "language_info": {
   "codemirror_mode": {
    "name": "ipython",
    "version": 3
   },
   "file_extension": ".py",
   "mimetype": "text/x-python",
   "name": "python",
   "nbconvert_exporter": "python",
   "pygments_lexer": "ipython3",
   "version": "3.11.3"
  }
 },
 "nbformat": 4,
 "nbformat_minor": 5
}
