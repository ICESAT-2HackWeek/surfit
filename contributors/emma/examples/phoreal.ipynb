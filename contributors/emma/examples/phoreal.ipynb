{
 "cells": [
  {
   "cell_type": "markdown",
   "id": "b0831525-6547-40bd-9d7f-11f9082168ab",
   "metadata": {},
   "source": [
    "## PhoREAL / SlideRule Example\n",
    "\n",
    "Demonstrate running the PhoREAL algorithm in SlideRule to produce canopy metrics over the Grand Mesa, Colorado region."
   ]
  },
  {
   "cell_type": "markdown",
   "id": "6b0d9805-5b1a-4bce-b828-6f2fee432725",
   "metadata": {},
   "source": [
    "#### Imports"
   ]
  },
  {
   "cell_type": "code",
   "execution_count": null,
   "id": "40256511-70fb-4040-bd35-7d61785a304b",
   "metadata": {
    "tags": []
   },
   "outputs": [],
   "source": [
    "import matplotlib.pyplot as plt\n",
    "import matplotlib\n",
    "import geopandas\n",
    "import sliderule\n",
    "from sliderule import icesat2"
   ]
  },
  {
   "cell_type": "markdown",
   "id": "a9cdeed4-810c-4540-869b-78e09591b68c",
   "metadata": {},
   "source": [
    "#### Initialize Client\n",
    "* Organization currently set to \"utexas\"; if you want to be a member of the utexas SlideRule organization, make a request through the SlideRule provisioning system (https://ps.slideruleearth.io); otherwise, remove the organization parameter to default to the public SlideRule cluster.\n",
    "* Notebook only processes one granule, so one desired_node is sufficient"
   ]
  },
  {
   "cell_type": "code",
   "execution_count": null,
   "id": "d8b5b11b-eea7-4922-abbc-997a670e03e6",
   "metadata": {
    "tags": []
   },
   "outputs": [],
   "source": [
    "icesat2.init(\"slideruleearth.io\", verbose=False, organization=\"utexas\", desired_nodes=1)"
   ]
  },
  {
   "cell_type": "markdown",
   "id": "f4c96101-53cf-4614-80a2-e50afcf65a03",
   "metadata": {},
   "source": [
    "#### Processing parameters\n",
    "* 100m segments stepped every 100m\n",
    "* Subsetted to the Grand Mesa region\n",
    "* Time range is one day, Nov 14, 2019\n",
    "* Only processing ground, canopy, and top of canopy photons\n",
    "* Running PhoREAL algorithm using a binsize of 1m, and geolocating each segment at the center of the segment\n",
    "* Sending reconstructed waveforms along with metrics (for diagnostics and demonstration purposes only)"
   ]
  },
  {
   "cell_type": "code",
   "execution_count": null,
   "id": "504049cb-de86-4f6b-98a4-3a3237b17ca6",
   "metadata": {
    "tags": []
   },
   "outputs": [],
   "source": [
    "parms = {\n",
    "    \"poly\": sliderule.toregion('grandmesa.geojson')['poly'],\n",
    "    \"t0\": '2019-11-14T00:00:00Z',\n",
    "    \"t1\": '2019-11-15T00:00:00Z',\n",
    "    \"srt\": icesat2.SRT_LAND,\n",
    "    \"len\": 100,\n",
    "    \"res\": 100,\n",
    "    \"pass_invalid\": True, \n",
    "    \"atl08_class\": [\"atl08_ground\", \"atl08_canopy\", \"atl08_top_of_canopy\"],\n",
    "    \"phoreal\": {\"binsize\": 1.0, \"geoloc\": \"center\", \"use_abs_h\": False, \"send_waveform\": True}\n",
    "}"
   ]
  },
  {
   "cell_type": "markdown",
   "id": "e9bd5e72-f5d5-4686-94b2-c65f6715a877",
   "metadata": {},
   "source": [
    "#### Make Atl08 Request"
   ]
  },
  {
   "cell_type": "code",
   "execution_count": null,
   "id": "26d37002-0505-4175-9657-2f8bc6aa956c",
   "metadata": {
    "tags": []
   },
   "outputs": [],
   "source": [
    "atl08 = icesat2.atl08p(parms, asset=\"icesat2\", keep_id=True)"
   ]
  },
  {
   "cell_type": "markdown",
   "id": "60702b08-c333-4502-b948-26015c1520d5",
   "metadata": {},
   "source": [
    "#### Print Resulting GeoDataFrame"
   ]
  },
  {
   "cell_type": "code",
   "execution_count": null,
   "id": "2237bae5-78e9-4edf-8b24-4162039cc2be",
   "metadata": {
    "tags": []
   },
   "outputs": [],
   "source": [
    "atl08"
   ]
  },
  {
   "cell_type": "markdown",
   "id": "23a8280a-844e-4405-a8a2-53e2dd51f5e0",
   "metadata": {},
   "source": [
    "#### Plot Canopy Height"
   ]
  },
  {
   "cell_type": "code",
   "execution_count": null,
   "id": "92188f98-1d76-4807-9f36-eba16354afea",
   "metadata": {
    "tags": []
   },
   "outputs": [],
   "source": [
    "canopy_gt1l = atl08[atl08['gt'] == icesat2.GT1L]\n",
    "canopy_gt1l.plot.scatter(x='distance', y='h_canopy')"
   ]
  },
  {
   "cell_type": "markdown",
   "id": "d3665d73-2745-4ba6-b209-5cf7a6abe693",
   "metadata": {},
   "source": [
    "#### Plot Landcover"
   ]
  },
  {
   "cell_type": "code",
   "execution_count": null,
   "id": "d7f8fe31-ad77-4ea1-9165-6e295434f125",
   "metadata": {
    "tags": []
   },
   "outputs": [],
   "source": [
    "atl08.plot('landcover')"
   ]
  },
  {
   "cell_type": "markdown",
   "id": "6fc1e14d-8936-4f26-a6ca-a2361f54ef4d",
   "metadata": {},
   "source": [
    "#### Create and Plot 75th percentile Across All Ground Tracks"
   ]
  },
  {
   "cell_type": "code",
   "execution_count": null,
   "id": "5127ea05-56f9-4c4d-88d4-2a74f9ef5eee",
   "metadata": {
    "tags": []
   },
   "outputs": [],
   "source": [
    "atl08['75'] = atl08.apply(lambda row : row[\"canopy_h_metrics\"][icesat2.P['75']], axis = 1)\n",
    "atl08.plot.scatter(x='distance', y='75')"
   ]
  },
  {
   "cell_type": "markdown",
   "id": "22804320-47c7-4965-a4d2-afc855cfd1b9",
   "metadata": {},
   "source": [
    "#### Create Sample Waveform Plots"
   ]
  },
  {
   "cell_type": "code",
   "execution_count": null,
   "id": "9c1ebb51-5d93-409f-ac77-b3bcdf954d94",
   "metadata": {
    "tags": []
   },
   "outputs": [],
   "source": [
    "num_plots = 5\n",
    "waveform_index = [96, 97, 98, 100, 101]\n",
    "fig,ax = plt.subplots(num=1, ncols=num_plots, sharey=True, figsize=(12, 6))\n",
    "for x in range(num_plots):\n",
    "    ax[x].plot([x for x in range(len(canopy_gt1l['waveform'][waveform_index[x]]))], canopy_gt1l['waveform'][waveform_index[x]], zorder=1, linewidth=1.0, color='mediumseagreen')\n",
    "plt.show()"
   ]
  },
  {
   "cell_type": "markdown",
   "id": "5da80824-8569-4d87-9544-6bc409956893",
   "metadata": {},
   "source": [
    "#### Make Atl06 Request\n",
    "* Below we run an ATL06-SR processing request on the same source data using the same parameters.  Because the `keep_id` argument is set to true here and above when we made the ATL08 request, we can merge the resulting dataframes and have a single table of both elevation data using the customized ATL06-SR algorithm, and vegatation data using the PhoREAL algorithm."
   ]
  },
  {
   "cell_type": "code",
   "execution_count": null,
   "id": "ce21732e-df05-4f20-8797-202f4c0f4b74",
   "metadata": {
    "tags": []
   },
   "outputs": [],
   "source": [
    "atl06 = icesat2.atl06p(parms, asset=\"icesat2\", keep_id=True)"
   ]
  },
  {
   "cell_type": "markdown",
   "id": "fd03f4ab-163a-49e3-b810-2f7d3bb37ffc",
   "metadata": {},
   "source": [
    "#### Merge Atl06 and Atl08 GeoDataFrames"
   ]
  },
  {
   "cell_type": "code",
   "execution_count": null,
   "id": "9ba76368-4a10-4be9-8237-f26d7b1b996e",
   "metadata": {
    "tags": []
   },
   "outputs": [],
   "source": [
    "gdf = geopandas.pd.merge(atl08, atl06, on='extent_id', how='left', suffixes=('.atl08','.atl06')).set_axis(atl08.index)\n",
    "gdf"
   ]
  },
  {
   "cell_type": "code",
   "execution_count": null,
   "id": "c71f9ecd-e361-4105-97f6-cefca087cfa8",
   "metadata": {},
   "outputs": [],
   "source": []
  }
 ],
 "metadata": {
  "kernelspec": {
   "display_name": "Python 3 (ipykernel)",
   "language": "python",
   "name": "python3"
  },
  "language_info": {
   "codemirror_mode": {
    "name": "ipython",
    "version": 3
   },
   "file_extension": ".py",
   "mimetype": "text/x-python",
   "name": "python",
   "nbconvert_exporter": "python",
   "pygments_lexer": "ipython3",
   "version": "3.11.3"
  }
 },
 "nbformat": 4,
 "nbformat_minor": 5
}
