{
 "cells": [
  {
   "cell_type": "code",
   "execution_count": null,
   "id": "0b7e6c08-fba9-405d-a278-767ec692efb4",
   "metadata": {
    "tags": []
   },
   "outputs": [],
   "source": [
    "from sliderule import sliderule, earthdata, swot\n",
    "import matplotlib.pyplot as plt\n",
    "import numpy"
   ]
  },
  {
   "cell_type": "code",
   "execution_count": null,
   "id": "e4058afa-16f0-4401-8d7f-52d0521f3651",
   "metadata": {
    "tags": []
   },
   "outputs": [],
   "source": [
    "swot.init(\"slideruleearth.io\", verbose=True, organization='developers')\n",
    "region = sliderule.toregion(\"../data/antarctic.geojson\")\n",
    "rsps = swot.swotl2p({\"poly\":region[\"poly\"], \"variables\":[\"dynamic_ice_flag\"]}, resources=['SWOT_L2_LR_SSH_Expert_238_002_20120705T114746_20120705T123852_DG10_01.nc'])"
   ]
  },
  {
   "cell_type": "code",
   "execution_count": null,
   "id": "ea532080-6b13-46eb-bc59-0a80dc6c52e0",
   "metadata": {
    "tags": []
   },
   "outputs": [],
   "source": [
    "rsps['SWOT_L2_LR_SSH_Expert_238_002_20120705T114746_20120705T123852_DG10_01.nc']"
   ]
  },
  {
   "cell_type": "code",
   "execution_count": null,
   "id": "98e39f55-6671-4f01-a447-0ea652203066",
   "metadata": {},
   "outputs": [],
   "source": []
  }
 ],
 "metadata": {
  "kernelspec": {
   "display_name": "Python 3 (ipykernel)",
   "language": "python",
   "name": "python3"
  },
  "language_info": {
   "codemirror_mode": {
    "name": "ipython",
    "version": 3
   },
   "file_extension": ".py",
   "mimetype": "text/x-python",
   "name": "python",
   "nbconvert_exporter": "python",
   "pygments_lexer": "ipython3",
   "version": "3.11.3"
  }
 },
 "nbformat": 4,
 "nbformat_minor": 5
}
