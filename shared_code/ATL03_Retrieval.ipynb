{
 "cells": [
  {
   "cell_type": "markdown",
   "id": "ddce2704-937f-46be-a0c8-fd402cc50037",
   "metadata": {
    "user_expressions": []
   },
   "source": [
    "## ICESat-2 ATL03 SlideRule Demo"
   ]
  },
  {
   "cell_type": "code",
   "execution_count": 3,
   "id": "6ef0bca8",
   "metadata": {
    "tags": []
   },
   "outputs": [],
   "source": [
    "import numpy as np\n",
    "%matplotlib inline\n",
    "import matplotlib.pyplot as plt\n",
    "from sliderule import sliderule, icesat2, earthdata\n",
    "import geopandas as gpd\n",
    "from datetime import datetime\n",
    "from datetime import timedelta\n",
    "import json\n",
    "import math\n",
    "\n",
    "import warnings\n",
    "from IPython import display\n",
    "import json\n",
    "\n",
    "warnings.filterwarnings('ignore')"
   ]
  },
  {
   "cell_type": "code",
   "execution_count": 4,
   "id": "13d96296",
   "metadata": {
    "tags": []
   },
   "outputs": [],
   "source": [
    "url = \"slideruleearth.io\"\n",
    "icesat2.init(url, verbose=False)\n",
    "asset = \"icesat2\""
   ]
  },
  {
   "cell_type": "markdown",
   "id": "0c29474c-b649-4739-a3b7-308c1218f76b",
   "metadata": {
    "user_expressions": []
   },
   "source": [
    "### Retrieve ATL03 elevations with several classification options\n",
    "\n",
    "For two region of interest (blackrock, utqiagvik)"
   ]
  },
  {
   "cell_type": "code",
   "execution_count": 21,
   "id": "327224ac-60ff-4997-be7b-02fce657d6a1",
   "metadata": {
    "tags": []
   },
   "outputs": [
    {
     "name": "stdout",
     "output_type": "stream",
     "text": [
      "~/surfit/data/blackrock_ATL03_gt1l.csv\n"
     ]
    }
   ],
   "source": [
    "########## SET PARAMETERS ######################\n",
    "\n",
    "###### Region of interest #########\n",
    "site = \"blackrock\" # (blackrock, utqiagvik)\n",
    "path = f\"~/surfit/data/\"\n",
    "\n",
    "##### Read input parameters from .json files #####\n",
    "poly_fn = f\"../data/bbox_{site}.geojson\"\n",
    "\n",
    "pregion = gpd.read_file(poly_fn)\n",
    "poly = sliderule.toregion(pregion)[\"poly\"]\n",
    "\n",
    "# Opening JSON file\n",
    "f = open(\"../data/icesat2_tracks.json\")\n",
    "data = json.load(f)\n",
    "\n",
    "granule_id = data[site]['granule_id']\n",
    "track = int(data[site]['beam'][2])\n",
    "pair = 0 if data[site]['beam'][3]==\"l\" else 1\n",
    "\n",
    "time_start = datetime.strptime(granule_id[6:14], \"%Y%m%d\").strftime(\"%Y-%m-%d\")\n",
    "time_end = (datetime.strptime(granule_id[6:14], \"%Y%m%d\") + timedelta(days=1)).strftime(\"%Y-%m-%d\")\n",
    "rgt = int(granule_id[21:25])\n",
    "cycle = int(granule_id[25:27])\n",
    "\n",
    "filename = f\"{path}{site}_ATL03_{data[site]['beam']}.csv\"\n",
    "print(filename)\n",
    "########## SET PARAMETERS ######################"
   ]
  },
  {
   "cell_type": "markdown",
   "id": "298b7e96-68e3-4736-838f-1eb00a32a0eb",
   "metadata": {
    "user_expressions": []
   },
   "source": [
    "## Calculate ATL06-SR Elevations from ATL03 Photons using SlideRule"
   ]
  },
  {
   "cell_type": "code",
   "execution_count": 22,
   "id": "3605d245",
   "metadata": {
    "tags": []
   },
   "outputs": [
    {
     "name": "stdout",
     "output_type": "stream",
     "text": [
      "CPU times: user 1min 49s, sys: 2.18 s, total: 1min 51s\n",
      "Wall time: 1min 53s\n"
     ]
    }
   ],
   "source": [
    "%%time\n",
    "\n",
    "##### Set ATL03 sp parameters ##############################\n",
    "# build sliderule parameters for ATL03 subsetting request\n",
    "# SRT_LAND = 0\n",
    "# SRT_OCEAN = 1\n",
    "# SRT_SEA_ICE = 2\n",
    "# SRT_LAND_ICE = 3\n",
    "# SRT_INLAND_WATER = 4\n",
    "parms = {\n",
    "    # processing parameters\n",
    "    \"srt\": 0,\n",
    "    \"len\": 40,\n",
    "    \"res\": 20,\n",
    "    \"track\": track,\n",
    "    # classification and checks\n",
    "    # still return photon segments that fail checks\n",
    "    \"pass_invalid\": True,\n",
    "    # all photons\n",
    "    \"cnf\": 0,\n",
    "    \"cnt\": 5,\n",
    "    \"atl03_geo_fields\": [\"ref_azimuth\", \"ref_elev\", \"geoid\"],\n",
    "    # all land classification flags\n",
    "    \"atl08_class\": [\"atl08_noise\", \"atl08_ground\", \"atl08_canopy\", \"atl08_top_of_canopy\", \"atl08_unclassified\"],\n",
    "    # all photons\n",
    "    \"yapc\": dict(knn=0, win_h=6, win_x=11, min_ph=4, score=0), \n",
    "}\n",
    "\n",
    "# ICESat-2 data release\n",
    "release = '006'\n",
    "\n",
    "# find granule for each region of interest\n",
    "granules_list = earthdata.cmr(short_name='ATL03', polygon=poly, time_start=time_start, time_end=time_end, version=release)\n",
    "\n",
    "# create an empty geodataframe\n",
    "parms[\"poly\"] = poly\n",
    "# gdf = icesat2.atl03sp(parms, asset=asset, version=release, resources=granules_list)\n",
    "gdf = icesat2.atl03sp(parms, asset=asset, resources=granules_list)\n"
   ]
  },
  {
   "cell_type": "code",
   "execution_count": 23,
   "id": "38a6f5b5-08f0-45ff-8d8d-ab392d653a4d",
   "metadata": {
    "tags": []
   },
   "outputs": [],
   "source": [
    "# Reduce dataframe for a single beam\n",
    "def reduce_dataframe(gdf, RGT=None, GT=None, track=None, pair=None, cycle=None, beam='', crs=4326):\n",
    "    # convert coordinate reference system\n",
    "    D3 = gdf.to_crs(crs)\n",
    "    # reduce to reference ground track\n",
    "    if RGT is not None:\n",
    "        D3 = D3[D3[\"rgt\"] == RGT]\n",
    "    # reduce to ground track (gt[123][lr]), track ([123]), or pair (l=0, r=1) \n",
    "    gtlookup = {icesat2.GT1L: 1, icesat2.GT1R: 1, icesat2.GT2L: 2, icesat2.GT2R: 2, icesat2.GT3L: 3, icesat2.GT3R: 3}\n",
    "    pairlookup = {icesat2.GT1L: 0, icesat2.GT1R: 1, icesat2.GT2L: 0, icesat2.GT2R: 1, icesat2.GT3L: 0, icesat2.GT3R: 1}\n",
    "    if GT is not None:\n",
    "        D3 = D3[(D3[\"track\"] == gtlookup[GT]) & (D3[\"pair\"] == pairlookup[GT])]\n",
    "    if track is not None:\n",
    "        D3 = D3[D3[\"track\"] == track]\n",
    "    if pair is not None:\n",
    "        D3 = D3[D3[\"pair\"] == pair]\n",
    "    # reduce to weak or strong beams\n",
    "    # tested on cycle 11, where the strong beam in the pair matches the spacecraft orientation.\n",
    "    # Need to check on other cycles\n",
    "    if (beam == 'strong'):\n",
    "        D3 = D3[D3['sc_orient'] == D3['pair']]\n",
    "    elif (beam == 'weak'):\n",
    "        D3 = D3[D3['sc_orient'] != D3['pair']]\n",
    "    # reduce to cycle\n",
    "    if cycle is not None:\n",
    "        D3 = D3[D3[\"cycle\"] == cycle]\n",
    "    # otherwise, return both beams\n",
    "    \n",
    "    D3['x_atc'] = D3['segment_dist']+D3['distance']-np.min(D3['segment_dist'])\n",
    "\n",
    "    # compute orthometric heights using the onboard geoid model (EGM08)\n",
    "    D3['height_ortho'] = D3['height'] - D3['geoid']\n",
    "    \n",
    "    return D3"
   ]
  },
  {
   "cell_type": "code",
   "execution_count": 24,
   "id": "d2ae63e9-0e09-4a0e-917d-0c134d6ab4f3",
   "metadata": {
    "tags": []
   },
   "outputs": [],
   "source": [
    "beam_type = 'strong'\n",
    "project_srs = \"EPSG:4326\" #\"EPSG:26912+EPSG:5703\"\n",
    "D3 = reduce_dataframe(gdf, RGT = rgt, track=track, pair = pair, beam=beam_type, crs=project_srs)"
   ]
  },
  {
   "cell_type": "code",
   "execution_count": 25,
   "id": "36b400ba-aed4-42d4-910c-4a84ea6dde2f",
   "metadata": {
    "tags": []
   },
   "outputs": [
    {
     "name": "stdout",
     "output_type": "stream",
     "text": [
      "923747\n"
     ]
    },
    {
     "data": {
      "text/html": [
       "<div>\n",
       "<style scoped>\n",
       "    .dataframe tbody tr th:only-of-type {\n",
       "        vertical-align: middle;\n",
       "    }\n",
       "\n",
       "    .dataframe tbody tr th {\n",
       "        vertical-align: top;\n",
       "    }\n",
       "\n",
       "    .dataframe thead th {\n",
       "        text-align: right;\n",
       "    }\n",
       "</style>\n",
       "<table border=\"1\" class=\"dataframe\">\n",
       "  <thead>\n",
       "    <tr style=\"text-align: right;\">\n",
       "      <th></th>\n",
       "      <th>sc_orient</th>\n",
       "      <th>solar_elevation</th>\n",
       "      <th>cycle</th>\n",
       "      <th>segment_id</th>\n",
       "      <th>track</th>\n",
       "      <th>background_rate</th>\n",
       "      <th>segment_dist</th>\n",
       "      <th>rgt</th>\n",
       "      <th>atl08_class</th>\n",
       "      <th>snowcover</th>\n",
       "      <th>...</th>\n",
       "      <th>yapc_score</th>\n",
       "      <th>distance</th>\n",
       "      <th>ref_azimuth</th>\n",
       "      <th>ref_elev</th>\n",
       "      <th>geoid</th>\n",
       "      <th>pair</th>\n",
       "      <th>geometry</th>\n",
       "      <th>spot</th>\n",
       "      <th>x_atc</th>\n",
       "      <th>height_ortho</th>\n",
       "    </tr>\n",
       "    <tr>\n",
       "      <th>time</th>\n",
       "      <th></th>\n",
       "      <th></th>\n",
       "      <th></th>\n",
       "      <th></th>\n",
       "      <th></th>\n",
       "      <th></th>\n",
       "      <th></th>\n",
       "      <th></th>\n",
       "      <th></th>\n",
       "      <th></th>\n",
       "      <th></th>\n",
       "      <th></th>\n",
       "      <th></th>\n",
       "      <th></th>\n",
       "      <th></th>\n",
       "      <th></th>\n",
       "      <th></th>\n",
       "      <th></th>\n",
       "      <th></th>\n",
       "      <th></th>\n",
       "      <th></th>\n",
       "    </tr>\n",
       "  </thead>\n",
       "  <tbody>\n",
       "    <tr>\n",
       "      <th>2020-07-08 17:09:55.676380672</th>\n",
       "      <td>0</td>\n",
       "      <td>49.545471</td>\n",
       "      <td>8</td>\n",
       "      <td>225377</td>\n",
       "      <td>1</td>\n",
       "      <td>2243652.25</td>\n",
       "      <td>4.519829e+06</td>\n",
       "      <td>204</td>\n",
       "      <td>4</td>\n",
       "      <td>255</td>\n",
       "      <td>...</td>\n",
       "      <td>3</td>\n",
       "      <td>-19.900970</td>\n",
       "      <td>2.590355</td>\n",
       "      <td>1.568278</td>\n",
       "      <td>-22.115574</td>\n",
       "      <td>0</td>\n",
       "      <td>POINT (-119.21472 40.61610)</td>\n",
       "      <td>1</td>\n",
       "      <td>-19.900970</td>\n",
       "      <td>1498.617676</td>\n",
       "    </tr>\n",
       "    <tr>\n",
       "      <th>2020-07-08 17:09:55.676380672</th>\n",
       "      <td>0</td>\n",
       "      <td>49.545471</td>\n",
       "      <td>8</td>\n",
       "      <td>225377</td>\n",
       "      <td>1</td>\n",
       "      <td>2243652.25</td>\n",
       "      <td>4.519829e+06</td>\n",
       "      <td>204</td>\n",
       "      <td>4</td>\n",
       "      <td>255</td>\n",
       "      <td>...</td>\n",
       "      <td>35</td>\n",
       "      <td>-19.815664</td>\n",
       "      <td>2.590355</td>\n",
       "      <td>1.568278</td>\n",
       "      <td>-22.115574</td>\n",
       "      <td>0</td>\n",
       "      <td>POINT (-119.21472 40.61610)</td>\n",
       "      <td>1</td>\n",
       "      <td>-19.815664</td>\n",
       "      <td>1461.349365</td>\n",
       "    </tr>\n",
       "    <tr>\n",
       "      <th>2020-07-08 17:09:55.676380672</th>\n",
       "      <td>0</td>\n",
       "      <td>49.545471</td>\n",
       "      <td>8</td>\n",
       "      <td>225377</td>\n",
       "      <td>1</td>\n",
       "      <td>2243652.25</td>\n",
       "      <td>4.519829e+06</td>\n",
       "      <td>204</td>\n",
       "      <td>4</td>\n",
       "      <td>255</td>\n",
       "      <td>...</td>\n",
       "      <td>0</td>\n",
       "      <td>-19.769168</td>\n",
       "      <td>2.590355</td>\n",
       "      <td>1.568278</td>\n",
       "      <td>-22.115574</td>\n",
       "      <td>0</td>\n",
       "      <td>POINT (-119.21472 40.61610)</td>\n",
       "      <td>1</td>\n",
       "      <td>-19.769168</td>\n",
       "      <td>1440.969604</td>\n",
       "    </tr>\n",
       "    <tr>\n",
       "      <th>2020-07-08 17:09:55.676380672</th>\n",
       "      <td>0</td>\n",
       "      <td>49.545471</td>\n",
       "      <td>8</td>\n",
       "      <td>225377</td>\n",
       "      <td>1</td>\n",
       "      <td>2243652.25</td>\n",
       "      <td>4.519829e+06</td>\n",
       "      <td>204</td>\n",
       "      <td>1</td>\n",
       "      <td>255</td>\n",
       "      <td>...</td>\n",
       "      <td>171</td>\n",
       "      <td>-19.732248</td>\n",
       "      <td>2.590355</td>\n",
       "      <td>1.568278</td>\n",
       "      <td>-22.115574</td>\n",
       "      <td>0</td>\n",
       "      <td>POINT (-119.21472 40.61610)</td>\n",
       "      <td>1</td>\n",
       "      <td>-19.732248</td>\n",
       "      <td>1424.864136</td>\n",
       "    </tr>\n",
       "    <tr>\n",
       "      <th>2020-07-08 17:09:55.676380672</th>\n",
       "      <td>0</td>\n",
       "      <td>49.545471</td>\n",
       "      <td>8</td>\n",
       "      <td>225377</td>\n",
       "      <td>1</td>\n",
       "      <td>2243652.25</td>\n",
       "      <td>4.519829e+06</td>\n",
       "      <td>204</td>\n",
       "      <td>0</td>\n",
       "      <td>255</td>\n",
       "      <td>...</td>\n",
       "      <td>131</td>\n",
       "      <td>-19.730091</td>\n",
       "      <td>2.590355</td>\n",
       "      <td>1.568278</td>\n",
       "      <td>-22.115574</td>\n",
       "      <td>0</td>\n",
       "      <td>POINT (-119.21472 40.61610)</td>\n",
       "      <td>1</td>\n",
       "      <td>-19.730091</td>\n",
       "      <td>1423.891968</td>\n",
       "    </tr>\n",
       "  </tbody>\n",
       "</table>\n",
       "<p>5 rows × 25 columns</p>\n",
       "</div>"
      ],
      "text/plain": [
       "                               sc_orient  solar_elevation  cycle  segment_id  \\\n",
       "time                                                                           \n",
       "2020-07-08 17:09:55.676380672          0        49.545471      8      225377   \n",
       "2020-07-08 17:09:55.676380672          0        49.545471      8      225377   \n",
       "2020-07-08 17:09:55.676380672          0        49.545471      8      225377   \n",
       "2020-07-08 17:09:55.676380672          0        49.545471      8      225377   \n",
       "2020-07-08 17:09:55.676380672          0        49.545471      8      225377   \n",
       "\n",
       "                               track  background_rate  segment_dist  rgt  \\\n",
       "time                                                                       \n",
       "2020-07-08 17:09:55.676380672      1       2243652.25  4.519829e+06  204   \n",
       "2020-07-08 17:09:55.676380672      1       2243652.25  4.519829e+06  204   \n",
       "2020-07-08 17:09:55.676380672      1       2243652.25  4.519829e+06  204   \n",
       "2020-07-08 17:09:55.676380672      1       2243652.25  4.519829e+06  204   \n",
       "2020-07-08 17:09:55.676380672      1       2243652.25  4.519829e+06  204   \n",
       "\n",
       "                               atl08_class  snowcover  ...  yapc_score  \\\n",
       "time                                                   ...               \n",
       "2020-07-08 17:09:55.676380672            4        255  ...           3   \n",
       "2020-07-08 17:09:55.676380672            4        255  ...          35   \n",
       "2020-07-08 17:09:55.676380672            4        255  ...           0   \n",
       "2020-07-08 17:09:55.676380672            1        255  ...         171   \n",
       "2020-07-08 17:09:55.676380672            0        255  ...         131   \n",
       "\n",
       "                                distance  ref_azimuth  ref_elev      geoid  \\\n",
       "time                                                                         \n",
       "2020-07-08 17:09:55.676380672 -19.900970     2.590355  1.568278 -22.115574   \n",
       "2020-07-08 17:09:55.676380672 -19.815664     2.590355  1.568278 -22.115574   \n",
       "2020-07-08 17:09:55.676380672 -19.769168     2.590355  1.568278 -22.115574   \n",
       "2020-07-08 17:09:55.676380672 -19.732248     2.590355  1.568278 -22.115574   \n",
       "2020-07-08 17:09:55.676380672 -19.730091     2.590355  1.568278 -22.115574   \n",
       "\n",
       "                               pair                     geometry  spot  \\\n",
       "time                                                                     \n",
       "2020-07-08 17:09:55.676380672     0  POINT (-119.21472 40.61610)     1   \n",
       "2020-07-08 17:09:55.676380672     0  POINT (-119.21472 40.61610)     1   \n",
       "2020-07-08 17:09:55.676380672     0  POINT (-119.21472 40.61610)     1   \n",
       "2020-07-08 17:09:55.676380672     0  POINT (-119.21472 40.61610)     1   \n",
       "2020-07-08 17:09:55.676380672     0  POINT (-119.21472 40.61610)     1   \n",
       "\n",
       "                                   x_atc  height_ortho  \n",
       "time                                                    \n",
       "2020-07-08 17:09:55.676380672 -19.900970   1498.617676  \n",
       "2020-07-08 17:09:55.676380672 -19.815664   1461.349365  \n",
       "2020-07-08 17:09:55.676380672 -19.769168   1440.969604  \n",
       "2020-07-08 17:09:55.676380672 -19.732248   1424.864136  \n",
       "2020-07-08 17:09:55.676380672 -19.730091   1423.891968  \n",
       "\n",
       "[5 rows x 25 columns]"
      ]
     },
     "execution_count": 25,
     "metadata": {},
     "output_type": "execute_result"
    }
   ],
   "source": [
    "print(len(D3))\n",
    "D3.head()"
   ]
  },
  {
   "cell_type": "code",
   "execution_count": 26,
   "id": "8a4f6f95-21b9-4e90-9848-3c10cc105122",
   "metadata": {
    "tags": []
   },
   "outputs": [
    {
     "data": {
      "text/plain": [
       "Index(['sc_orient', 'solar_elevation', 'cycle', 'segment_id', 'track',\n",
       "       'background_rate', 'segment_dist', 'rgt', 'atl08_class', 'snowcover',\n",
       "       'landcover', 'relief', 'height', 'atl03_cnf', 'quality_ph',\n",
       "       'yapc_score', 'distance', 'ref_azimuth', 'ref_elev', 'geoid', 'pair',\n",
       "       'geometry', 'spot', 'x_atc', 'height_ortho'],\n",
       "      dtype='object')"
      ]
     },
     "execution_count": 26,
     "metadata": {},
     "output_type": "execute_result"
    }
   ],
   "source": [
    "D3.keys()"
   ]
  },
  {
   "cell_type": "code",
   "execution_count": 27,
   "id": "48581f2a-9fbb-49cf-b50e-f5b47a253e1f",
   "metadata": {
    "tags": []
   },
   "outputs": [
    {
     "name": "stdout",
     "output_type": "stream",
     "text": [
      "Saving file as ~/surfit/data/blackrock_ATL03_gt1l.csv\n"
     ]
    }
   ],
   "source": [
    "# Save geodataframe as csv\n",
    "print(f'Saving file as {filename}')\n",
    "D3.to_csv(filename)"
   ]
  },
  {
   "cell_type": "code",
   "execution_count": null,
   "id": "c70163ca-1bd2-414a-9fb9-fc84ef2e68f7",
   "metadata": {},
   "outputs": [],
   "source": []
  }
 ],
 "metadata": {
  "kernelspec": {
   "display_name": "Python 3 (ipykernel)",
   "language": "python",
   "name": "python3"
  },
  "language_info": {
   "codemirror_mode": {
    "name": "ipython",
    "version": 3
   },
   "file_extension": ".py",
   "mimetype": "text/x-python",
   "name": "python",
   "nbconvert_exporter": "python",
   "pygments_lexer": "ipython3",
   "version": "3.10.12"
  }
 },
 "nbformat": 4,
 "nbformat_minor": 5
}
