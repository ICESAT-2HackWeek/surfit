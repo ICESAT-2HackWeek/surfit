{
 "cells": [
  {
   "cell_type": "code",
   "execution_count": 12,
   "id": "9273b43c-683e-4c3e-984f-4330b3d498d7",
   "metadata": {
    "tags": []
   },
   "outputs": [],
   "source": [
    "import numpy as np\n",
    "import sys\n",
    "import logging\n",
    "import concurrent.futures\n",
    "import time\n",
    "from datetime import datetime\n",
    "import pandas as pd\n",
    "import geopandas as gpd\n",
    "import matplotlib.pyplot as plt\n",
    "from pyproj import Transformer, CRS\n",
    "from shapely.geometry import Polygon, Point\n",
    "from sliderule import sliderule, icesat2, earthdata, h5, ipysliderule, io\n",
    "import warnings\n",
    "from IPython import display\n",
    "import json\n",
    "\n",
    "warnings.filterwarnings('ignore')"
   ]
  },
  {
   "cell_type": "code",
   "execution_count": 31,
   "id": "9495063a-9534-4477-a272-68810c0366b8",
   "metadata": {
    "tags": []
   },
   "outputs": [],
   "source": [
    "# Select predetermined track\n",
    "site = \"utqiagvik\"\n",
    "#site = \"blackrock\"\n",
    "\n",
    "#options\n",
    "# \"len\": recommended 20.0\n",
    "segLength = 20.0\n",
    "# \"res\":  recommended 10.0\n",
    "res = 10.0"
   ]
  },
  {
   "cell_type": "code",
   "execution_count": 6,
   "id": "0d9f29b0-7298-45d9-a1f0-a13a95e36cdb",
   "metadata": {
    "tags": []
   },
   "outputs": [],
   "source": [
    "# Configure ICESat-2 API\n",
    "icesat2.init(\"slideruleearth.io\", verbose=False)"
   ]
  },
  {
   "cell_type": "code",
   "execution_count": 29,
   "id": "a46109be-fef7-46d0-9396-24b2de849067",
   "metadata": {
    "tags": []
   },
   "outputs": [],
   "source": [
    "#pregion = gpd.read_file(poly_fn)\n",
    "#poly = sliderule.toregion(pregion)[\"poly\"]\n",
    "\n",
    "# Read geojson with geopandas\n",
    "#pregion = gpd.read_file(poly_fn)\n",
    "#pregion.plot();\n",
    "\n"
   ]
  },
  {
   "cell_type": "code",
   "execution_count": 7,
   "id": "05e31dda-5aef-45cc-af51-d6c4169ab2c9",
   "metadata": {
    "tags": []
   },
   "outputs": [],
   "source": [
    "'''\n",
    "File Naming Conventions\n",
    "ATL[xx]_[yyyymmdd][hhmmss]_[tttt][cc][nn]_[vvv]_[rr].h5\n",
    "xx : ATLAS product number\n",
    "yyyymmdd : year, month and day of data acquisition\n",
    "hhmmss : start time, hour, minute, and second of data acquisition\n",
    "tttt : Reference Ground Track (RGT, ranges from 1–1387)\n",
    "cc : Orbital Cycle (91-day period)\n",
    "nn : Granule number (ranges from 1–14)\n",
    "vvv : data version number\n",
    "rr : data release number\n",
    "'''\n",
    "\n",
    "# Import granule id, \n",
    "def unpackGranuleID(gid):\n",
    "    global shortName, dat, tim, rgt, cycle, granuleNumber, version, release\n",
    "    gid = gid.split('_')\n",
    "    shortName = f'{gid[0]}'\n",
    "    dat = f'{gid[1][0:4]}-{gid[1][4:6]}-{gid[1][6:8]}'\n",
    "    tim = f'{gid[1][8:10]}:{gid[1][10:12]}:{gid[1][12:14]}'\n",
    "    rgt = int(f'{gid[2][0:4]}')\n",
    "    cycle = int(f'{gid[2][4:6]}')\n",
    "    granuleNumber = f'{gid[2][6:8]}'\n",
    "    version = f'{gid[3]}'\n",
    "    release = f'{gid[4][0:2]}'"
   ]
  },
  {
   "cell_type": "code",
   "execution_count": 17,
   "id": "45c0ac87-4484-4ee0-b790-f3798d669151",
   "metadata": {
    "tags": []
   },
   "outputs": [],
   "source": [
    "# Load JSON data from a file into a Python dictionary\n",
    "with open('/home/jovyan/surfit/data/icesat2_tracks.json') as json_file:\n",
    "    data_dict = json.load(json_file)"
   ]
  },
  {
   "cell_type": "code",
   "execution_count": 34,
   "id": "8ad95e4c-ad07-44ce-9084-7738abd769e2",
   "metadata": {
    "tags": []
   },
   "outputs": [],
   "source": [
    "#Unpack site metadata\n",
    "pregion = f\"/home/jovyan/surfit/data/bbox_{site}.geojson\" \n",
    "region = sliderule.toregion(pregion)[\"poly\"]\n",
    "gid = data_dict[site][\"granule_id\"]\n",
    "beam = data_dict[site][\"beam\"]\n",
    "unpackGranuleID(gid)"
   ]
  },
  {
   "cell_type": "code",
   "execution_count": 35,
   "id": "b97bf4a0-6a9d-4ac4-9f15-9685acd74649",
   "metadata": {
    "tags": []
   },
   "outputs": [],
   "source": [
    "# Build ATL06 Request\n",
    "parms = {\n",
    "    \"poly\": region,\n",
    "    \"srt\": icesat2.SRT_LAND,\n",
    "    \"cnf\": -2,\n",
    "    \"ats\": 10.0,\n",
    "    \"cnt\": 10,\n",
    "    \"len\": segLength,\n",
    "    \"res\": res,\n",
    "    \"maxi\": 1,\n",
    "    \"cycle\": cycle,\n",
    "}"
   ]
  },
  {
   "cell_type": "code",
   "execution_count": 36,
   "id": "3fb02b7e-2865-4f28-8d90-0cdc449f0323",
   "metadata": {
    "tags": []
   },
   "outputs": [
    {
     "name": "stdout",
     "output_type": "stream",
     "text": [
      "Completed in 11.889 seconds of wall-clock time\n",
      "Reference Ground Tracks: [ 381  815 1257 1326]\n",
      "Cycles: [15]\n",
      "Received 55914 elevations\n"
     ]
    }
   ],
   "source": [
    "# Latch Start Time\n",
    "perf_start = time.perf_counter()\n",
    "\n",
    "# Request ATL06 Data\n",
    "atl06_sr = icesat2.atl06p(parms, \"nsidc-s3\")\n",
    "\n",
    "# Latch Stop Time\n",
    "perf_stop = time.perf_counter()\n",
    "\n",
    "# Display Statistics\n",
    "perf_duration = perf_stop - perf_start\n",
    "print(\"Completed in {:.3f} seconds of wall-clock time\".format(perf_duration))\n",
    "print(\"Reference Ground Tracks: {}\".format(atl06_sr[\"rgt\"].unique()))\n",
    "print(\"Cycles: {}\".format(atl06_sr[\"cycle\"].unique()))\n",
    "print(\"Received {} elevations\".format(atl06_sr.shape[0]))"
   ]
  },
  {
   "cell_type": "code",
   "execution_count": null,
   "id": "aff072ac-2493-42d4-aa98-8312a34114dd",
   "metadata": {},
   "outputs": [
    {
     "data": {
      "text/html": [
       "<div>\n",
       "<style scoped>\n",
       "    .dataframe tbody tr th:only-of-type {\n",
       "        vertical-align: middle;\n",
       "    }\n",
       "\n",
       "    .dataframe tbody tr th {\n",
       "        vertical-align: top;\n",
       "    }\n",
       "\n",
       "    .dataframe thead th {\n",
       "        text-align: right;\n",
       "    }\n",
       "</style>\n",
       "<table border=\"1\" class=\"dataframe\">\n",
       "  <thead>\n",
       "    <tr style=\"text-align: right;\">\n",
       "      <th></th>\n",
       "      <th>cycle</th>\n",
       "      <th>rms_misfit</th>\n",
       "      <th>h_mean</th>\n",
       "      <th>pflags</th>\n",
       "      <th>n_fit_photons</th>\n",
       "      <th>distance</th>\n",
       "      <th>rgt</th>\n",
       "      <th>spot</th>\n",
       "      <th>dh_fit_dx</th>\n",
       "      <th>segment_id</th>\n",
       "      <th>w_surface_window_final</th>\n",
       "      <th>gt</th>\n",
       "      <th>h_sigma</th>\n",
       "      <th>dh_fit_dy</th>\n",
       "      <th>geometry</th>\n",
       "    </tr>\n",
       "    <tr>\n",
       "      <th>time</th>\n",
       "      <th></th>\n",
       "      <th></th>\n",
       "      <th></th>\n",
       "      <th></th>\n",
       "      <th></th>\n",
       "      <th></th>\n",
       "      <th></th>\n",
       "      <th></th>\n",
       "      <th></th>\n",
       "      <th></th>\n",
       "      <th></th>\n",
       "      <th></th>\n",
       "      <th></th>\n",
       "      <th></th>\n",
       "      <th></th>\n",
       "    </tr>\n",
       "  </thead>\n",
       "  <tbody>\n",
       "    <tr>\n",
       "      <th>2022-04-17 01:15:52.822686208</th>\n",
       "      <td>15</td>\n",
       "      <td>104.095798</td>\n",
       "      <td>6.711406</td>\n",
       "      <td>4</td>\n",
       "      <td>398</td>\n",
       "      <td>1.208686e+07</td>\n",
       "      <td>381</td>\n",
       "      <td>1</td>\n",
       "      <td>1.197411</td>\n",
       "      <td>603405</td>\n",
       "      <td>30.540110</td>\n",
       "      <td>10</td>\n",
       "      <td>5.439221</td>\n",
       "      <td>0.0</td>\n",
       "      <td>POINT (-156.48805 71.56392)</td>\n",
       "    </tr>\n",
       "    <tr>\n",
       "      <th>2022-04-17 01:15:52.824097280</th>\n",
       "      <td>15</td>\n",
       "      <td>110.499813</td>\n",
       "      <td>13.706023</td>\n",
       "      <td>4</td>\n",
       "      <td>524</td>\n",
       "      <td>1.208687e+07</td>\n",
       "      <td>381</td>\n",
       "      <td>1</td>\n",
       "      <td>-0.323133</td>\n",
       "      <td>603406</td>\n",
       "      <td>14.416968</td>\n",
       "      <td>10</td>\n",
       "      <td>4.832015</td>\n",
       "      <td>0.0</td>\n",
       "      <td>POINT (-156.48809 71.56383)</td>\n",
       "    </tr>\n",
       "    <tr>\n",
       "      <th>2022-04-17 01:15:52.825504000</th>\n",
       "      <td>15</td>\n",
       "      <td>114.105885</td>\n",
       "      <td>14.725704</td>\n",
       "      <td>4</td>\n",
       "      <td>615</td>\n",
       "      <td>1.208688e+07</td>\n",
       "      <td>381</td>\n",
       "      <td>1</td>\n",
       "      <td>-0.261386</td>\n",
       "      <td>603406</td>\n",
       "      <td>15.036317</td>\n",
       "      <td>10</td>\n",
       "      <td>4.613931</td>\n",
       "      <td>0.0</td>\n",
       "      <td>POINT (-156.48813 71.56374)</td>\n",
       "    </tr>\n",
       "    <tr>\n",
       "      <th>2022-04-17 01:15:52.826915328</th>\n",
       "      <td>15</td>\n",
       "      <td>109.534093</td>\n",
       "      <td>17.030891</td>\n",
       "      <td>4</td>\n",
       "      <td>652</td>\n",
       "      <td>1.208689e+07</td>\n",
       "      <td>381</td>\n",
       "      <td>1</td>\n",
       "      <td>-0.533503</td>\n",
       "      <td>603406</td>\n",
       "      <td>20.412795</td>\n",
       "      <td>10</td>\n",
       "      <td>4.306992</td>\n",
       "      <td>0.0</td>\n",
       "      <td>POINT (-156.48816 71.56365)</td>\n",
       "    </tr>\n",
       "    <tr>\n",
       "      <th>2022-04-17 01:15:52.828324608</th>\n",
       "      <td>15</td>\n",
       "      <td>109.704130</td>\n",
       "      <td>12.229053</td>\n",
       "      <td>4</td>\n",
       "      <td>635</td>\n",
       "      <td>1.208690e+07</td>\n",
       "      <td>381</td>\n",
       "      <td>1</td>\n",
       "      <td>-1.265971</td>\n",
       "      <td>603407</td>\n",
       "      <td>32.288045</td>\n",
       "      <td>10</td>\n",
       "      <td>4.353674</td>\n",
       "      <td>0.0</td>\n",
       "      <td>POINT (-156.48820 71.56356)</td>\n",
       "    </tr>\n",
       "    <tr>\n",
       "      <th>...</th>\n",
       "      <td>...</td>\n",
       "      <td>...</td>\n",
       "      <td>...</td>\n",
       "      <td>...</td>\n",
       "      <td>...</td>\n",
       "      <td>...</td>\n",
       "      <td>...</td>\n",
       "      <td>...</td>\n",
       "      <td>...</td>\n",
       "      <td>...</td>\n",
       "      <td>...</td>\n",
       "      <td>...</td>\n",
       "      <td>...</td>\n",
       "      <td>...</td>\n",
       "      <td>...</td>\n",
       "    </tr>\n",
       "    <tr>\n",
       "      <th>2022-06-17 22:19:58.634675200</th>\n",
       "      <td>15</td>\n",
       "      <td>189.269256</td>\n",
       "      <td>7.458086</td>\n",
       "      <td>4</td>\n",
       "      <td>462</td>\n",
       "      <td>1.211064e+07</td>\n",
       "      <td>1326</td>\n",
       "      <td>5</td>\n",
       "      <td>4.697677</td>\n",
       "      <td>604598</td>\n",
       "      <td>119.792337</td>\n",
       "      <td>20</td>\n",
       "      <td>8.892139</td>\n",
       "      <td>0.0</td>\n",
       "      <td>POINT (-156.83806 71.35279)</td>\n",
       "    </tr>\n",
       "    <tr>\n",
       "      <th>2022-06-17 22:19:58.636069888</th>\n",
       "      <td>15</td>\n",
       "      <td>186.089500</td>\n",
       "      <td>20.966335</td>\n",
       "      <td>4</td>\n",
       "      <td>457</td>\n",
       "      <td>1.211065e+07</td>\n",
       "      <td>1326</td>\n",
       "      <td>5</td>\n",
       "      <td>2.827560</td>\n",
       "      <td>604599</td>\n",
       "      <td>72.105372</td>\n",
       "      <td>20</td>\n",
       "      <td>8.782668</td>\n",
       "      <td>0.0</td>\n",
       "      <td>POINT (-156.83810 71.35270)</td>\n",
       "    </tr>\n",
       "    <tr>\n",
       "      <th>2022-06-17 22:19:58.637471488</th>\n",
       "      <td>15</td>\n",
       "      <td>188.092359</td>\n",
       "      <td>14.106846</td>\n",
       "      <td>4</td>\n",
       "      <td>486</td>\n",
       "      <td>1.211066e+07</td>\n",
       "      <td>1326</td>\n",
       "      <td>5</td>\n",
       "      <td>2.566896</td>\n",
       "      <td>604599</td>\n",
       "      <td>65.458706</td>\n",
       "      <td>20</td>\n",
       "      <td>8.538206</td>\n",
       "      <td>0.0</td>\n",
       "      <td>POINT (-156.83814 71.35262)</td>\n",
       "    </tr>\n",
       "    <tr>\n",
       "      <th>2022-06-17 22:19:58.638872064</th>\n",
       "      <td>15</td>\n",
       "      <td>190.372053</td>\n",
       "      <td>12.687665</td>\n",
       "      <td>4</td>\n",
       "      <td>493</td>\n",
       "      <td>1.211067e+07</td>\n",
       "      <td>1326</td>\n",
       "      <td>5</td>\n",
       "      <td>3.491483</td>\n",
       "      <td>604600</td>\n",
       "      <td>89.034925</td>\n",
       "      <td>20</td>\n",
       "      <td>8.707497</td>\n",
       "      <td>0.0</td>\n",
       "      <td>POINT (-156.83818 71.35253)</td>\n",
       "    </tr>\n",
       "    <tr>\n",
       "      <th>2022-06-17 22:19:58.640272640</th>\n",
       "      <td>15</td>\n",
       "      <td>186.301838</td>\n",
       "      <td>7.204328</td>\n",
       "      <td>4</td>\n",
       "      <td>491</td>\n",
       "      <td>1.211068e+07</td>\n",
       "      <td>1326</td>\n",
       "      <td>5</td>\n",
       "      <td>2.499806</td>\n",
       "      <td>604600</td>\n",
       "      <td>63.747987</td>\n",
       "      <td>20</td>\n",
       "      <td>8.436042</td>\n",
       "      <td>0.0</td>\n",
       "      <td>POINT (-156.83821 71.35244)</td>\n",
       "    </tr>\n",
       "  </tbody>\n",
       "</table>\n",
       "<p>55914 rows × 15 columns</p>\n",
       "</div>"
      ],
      "text/plain": [
       "                               cycle  rms_misfit     h_mean  pflags  \\\n",
       "time                                                                  \n",
       "2022-04-17 01:15:52.822686208     15  104.095798   6.711406       4   \n",
       "2022-04-17 01:15:52.824097280     15  110.499813  13.706023       4   \n",
       "2022-04-17 01:15:52.825504000     15  114.105885  14.725704       4   \n",
       "2022-04-17 01:15:52.826915328     15  109.534093  17.030891       4   \n",
       "2022-04-17 01:15:52.828324608     15  109.704130  12.229053       4   \n",
       "...                              ...         ...        ...     ...   \n",
       "2022-06-17 22:19:58.634675200     15  189.269256   7.458086       4   \n",
       "2022-06-17 22:19:58.636069888     15  186.089500  20.966335       4   \n",
       "2022-06-17 22:19:58.637471488     15  188.092359  14.106846       4   \n",
       "2022-06-17 22:19:58.638872064     15  190.372053  12.687665       4   \n",
       "2022-06-17 22:19:58.640272640     15  186.301838   7.204328       4   \n",
       "\n",
       "                               n_fit_photons      distance   rgt  spot  \\\n",
       "time                                                                     \n",
       "2022-04-17 01:15:52.822686208            398  1.208686e+07   381     1   \n",
       "2022-04-17 01:15:52.824097280            524  1.208687e+07   381     1   \n",
       "2022-04-17 01:15:52.825504000            615  1.208688e+07   381     1   \n",
       "2022-04-17 01:15:52.826915328            652  1.208689e+07   381     1   \n",
       "2022-04-17 01:15:52.828324608            635  1.208690e+07   381     1   \n",
       "...                                      ...           ...   ...   ...   \n",
       "2022-06-17 22:19:58.634675200            462  1.211064e+07  1326     5   \n",
       "2022-06-17 22:19:58.636069888            457  1.211065e+07  1326     5   \n",
       "2022-06-17 22:19:58.637471488            486  1.211066e+07  1326     5   \n",
       "2022-06-17 22:19:58.638872064            493  1.211067e+07  1326     5   \n",
       "2022-06-17 22:19:58.640272640            491  1.211068e+07  1326     5   \n",
       "\n",
       "                               dh_fit_dx  segment_id  w_surface_window_final  \\\n",
       "time                                                                           \n",
       "2022-04-17 01:15:52.822686208   1.197411      603405               30.540110   \n",
       "2022-04-17 01:15:52.824097280  -0.323133      603406               14.416968   \n",
       "2022-04-17 01:15:52.825504000  -0.261386      603406               15.036317   \n",
       "2022-04-17 01:15:52.826915328  -0.533503      603406               20.412795   \n",
       "2022-04-17 01:15:52.828324608  -1.265971      603407               32.288045   \n",
       "...                                  ...         ...                     ...   \n",
       "2022-06-17 22:19:58.634675200   4.697677      604598              119.792337   \n",
       "2022-06-17 22:19:58.636069888   2.827560      604599               72.105372   \n",
       "2022-06-17 22:19:58.637471488   2.566896      604599               65.458706   \n",
       "2022-06-17 22:19:58.638872064   3.491483      604600               89.034925   \n",
       "2022-06-17 22:19:58.640272640   2.499806      604600               63.747987   \n",
       "\n",
       "                               gt   h_sigma  dh_fit_dy  \\\n",
       "time                                                     \n",
       "2022-04-17 01:15:52.822686208  10  5.439221        0.0   \n",
       "2022-04-17 01:15:52.824097280  10  4.832015        0.0   \n",
       "2022-04-17 01:15:52.825504000  10  4.613931        0.0   \n",
       "2022-04-17 01:15:52.826915328  10  4.306992        0.0   \n",
       "2022-04-17 01:15:52.828324608  10  4.353674        0.0   \n",
       "...                            ..       ...        ...   \n",
       "2022-06-17 22:19:58.634675200  20  8.892139        0.0   \n",
       "2022-06-17 22:19:58.636069888  20  8.782668        0.0   \n",
       "2022-06-17 22:19:58.637471488  20  8.538206        0.0   \n",
       "2022-06-17 22:19:58.638872064  20  8.707497        0.0   \n",
       "2022-06-17 22:19:58.640272640  20  8.436042        0.0   \n",
       "\n",
       "                                                  geometry  \n",
       "time                                                        \n",
       "2022-04-17 01:15:52.822686208  POINT (-156.48805 71.56392)  \n",
       "2022-04-17 01:15:52.824097280  POINT (-156.48809 71.56383)  \n",
       "2022-04-17 01:15:52.825504000  POINT (-156.48813 71.56374)  \n",
       "2022-04-17 01:15:52.826915328  POINT (-156.48816 71.56365)  \n",
       "2022-04-17 01:15:52.828324608  POINT (-156.48820 71.56356)  \n",
       "...                                                    ...  \n",
       "2022-06-17 22:19:58.634675200  POINT (-156.83806 71.35279)  \n",
       "2022-06-17 22:19:58.636069888  POINT (-156.83810 71.35270)  \n",
       "2022-06-17 22:19:58.637471488  POINT (-156.83814 71.35262)  \n",
       "2022-06-17 22:19:58.638872064  POINT (-156.83818 71.35253)  \n",
       "2022-06-17 22:19:58.640272640  POINT (-156.83821 71.35244)  \n",
       "\n",
       "[55914 rows x 15 columns]"
      ]
     },
     "execution_count": 41,
     "metadata": {},
     "output_type": "execute_result"
    }
   ],
   "source": [
    "atl06_sr"
   ]
  },
  {
   "cell_type": "code",
   "execution_count": 37,
   "id": "e19e8eb2-5a22-474c-9645-4b4bd5786673",
   "metadata": {
    "tags": []
   },
   "outputs": [
    {
     "data": {
      "application/vnd.jupyter.widget-view+json": {
       "model_id": "d55589f92ede4063ad2d2ec235195b7e",
       "version_major": 2,
       "version_minor": 0
      },
      "text/plain": [
       "Map(center=[39, -108], controls=(ZoomControl(options=['position', 'zoom_in_text', 'zoom_in_title', 'zoom_out_t…"
      ]
     },
     "metadata": {},
     "output_type": "display_data"
    }
   ],
   "source": [
    "projection = 'Global'\n",
    "max_plot_point = atl06_sr.shape[0]\n",
    "m = ipysliderule.leaflet(projection)\n",
    "m.GeoData(atl06_sr, column_name='h_mean', cmap='viridis', max_plot_point=max_plot_point)\n",
    "\n",
    "display.display(m.map)"
   ]
  },
  {
   "cell_type": "code",
   "execution_count": 40,
   "id": "d04f12af-fea9-4267-8e09-37f83e148be3",
   "metadata": {
    "tags": []
   },
   "outputs": [
    {
     "data": {
      "image/png": "[encoded data removed]",
      "text/plain": [
       "<Figure size 640x480 with 1 Axes>"
      ]
     },
     "metadata": {},
     "output_type": "display_data"
    }
   ],
   "source": [
    "# Prepare coordinate lists for plotting the region of interest polygon\n",
    "region_lon = [e[\"lon\"] for e in region]\n",
    "region_lat = [e[\"lat\"] for e in region]\n",
    "\n",
    "f, ax = plt.subplots()\n",
    "ax.set_title(f\"ATL06-SR, cycle {cycle}\")\n",
    "ax.set_aspect('equal')\n",
    "atl06_sr.plot(ax=ax, column='h_mean', cmap='viridis', s=0.1)\n",
    "ax.plot(region_lon, region_lat, linewidth=1, color='g');"
   ]
  },
  {
   "cell_type": "code",
   "execution_count": null,
   "id": "997638d7-54cf-4b46-8db4-6cfe1c2956ba",
   "metadata": {
    "tags": []
   },
   "outputs": [],
   "source": [
    "f, ax = plt.subplots()\n",
    "ax.set_title(\"ATL06-SR Points\")\n",
    "ax.set_aspect('equal')\n",
    "atl06_sr.plot(ax=ax, column='h_mean', cmap='viridis', s=0.1)\n",
    "ax.plot(region_lon, region_lat, linewidth=1, color='red');"
   ]
  },
  {
   "cell_type": "markdown",
   "id": "19471a09-f7a1-41cf-8618-6aa33cee99b7",
   "metadata": {
    "user_expressions": []
   },
   "source": [
    "## Plot ATL06-SR vs. ATL06"
   ]
  },
  {
   "cell_type": "code",
   "execution_count": 128,
   "id": "4348d85b-1e5c-4fb9-ac1a-19dac675bf5b",
   "metadata": {
    "tags": []
   },
   "outputs": [
    {
     "data": {
      "application/vnd.jupyter.widget-view+json": {
       "model_id": "4f4ed0203d0749528136e0ac6c1d1e42",
       "version_major": 2,
       "version_minor": 0
      },
      "text/plain": [
       "Map(center=[39, -108], controls=(ZoomControl(options=['position', 'zoom_in_text', 'zoom_in_title', 'zoom_out_t…"
      ]
     },
     "metadata": {},
     "output_type": "display_data"
    }
   ],
   "source": [
    "projection = 'Global'\n",
    "max_plot_point = atl06_sr.shape[0]\n",
    "m = ipysliderule.leaflet(projection)\n",
    "m.GeoData(atl06_sr, column_name='h_mean', cmap='viridis', max_plot_point=max_plot_point)\n",
    "\n",
    "display.display(m.map)"
   ]
  },
  {
   "cell_type": "code",
   "execution_count": 17,
   "id": "4e2eee79-fb49-4213-bbb4-c684461c8e4a",
   "metadata": {
    "tags": []
   },
   "outputs": [
    {
     "data": {
      "text/html": [
       "<div>\n",
       "<style scoped>\n",
       "    .dataframe tbody tr th:only-of-type {\n",
       "        vertical-align: middle;\n",
       "    }\n",
       "\n",
       "    .dataframe tbody tr th {\n",
       "        vertical-align: top;\n",
       "    }\n",
       "\n",
       "    .dataframe thead th {\n",
       "        text-align: right;\n",
       "    }\n",
       "</style>\n",
       "<table border=\"1\" class=\"dataframe\">\n",
       "  <thead>\n",
       "    <tr style=\"text-align: right;\">\n",
       "      <th></th>\n",
       "      <th>rgt</th>\n",
       "      <th>gt</th>\n",
       "      <th>cycle</th>\n",
       "    </tr>\n",
       "    <tr>\n",
       "      <th>time</th>\n",
       "      <th></th>\n",
       "      <th></th>\n",
       "      <th></th>\n",
       "    </tr>\n",
       "  </thead>\n",
       "  <tbody>\n",
       "  </tbody>\n",
       "</table>\n",
       "</div>"
      ],
      "text/plain": [
       "Empty DataFrame\n",
       "Columns: [rgt, gt, cycle]\n",
       "Index: []"
      ]
     },
     "execution_count": 17,
     "metadata": {},
     "output_type": "execute_result"
    }
   ],
   "source": [
    "# Works to subset selected gt (60) and newest cycle (17)\n",
    "cycleChoice = 17\n",
    "gtChoice = ''\n",
    "rgtChoice = ''#622\n",
    "#syntax for gt is weird because it is not an attribute of GDFs\n",
    "df_subset = atl06_sr[(atl06_sr.cycle == cycleChoice)*atl06_sr.loc[:, 'gt']==gtChoice]\n",
    "df_subset.loc[:, ['rgt', 'gt', 'cycle']]"
   ]
  },
  {
   "cell_type": "code",
   "execution_count": null,
   "id": "03efaf72-24e4-4563-be84-8d4130428760",
   "metadata": {},
   "outputs": [],
   "source": []
  }
 ],
 "metadata": {
  "kernelspec": {
   "display_name": "Python 3 (ipykernel)",
   "language": "python",
   "name": "python3"
  },
  "language_info": {
   "codemirror_mode": {
    "name": "ipython",
    "version": 3
   },
   "file_extension": ".py",
   "mimetype": "text/x-python",
   "name": "python",
   "nbconvert_exporter": "python",
   "pygments_lexer": "ipython3",
   "version": "3.10.12"
  }
 },
 "nbformat": 4,
 "nbformat_minor": 5
}
